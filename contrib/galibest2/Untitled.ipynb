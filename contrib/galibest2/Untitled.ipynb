{
 "cells": [
  {
   "cell_type": "code",
   "execution_count": 2,
   "id": "5d194d53-4314-40bf-bd06-a5ca955d6fae",
   "metadata": {},
   "outputs": [],
   "source": [
    "# Load necessary libraries\n",
    "\n",
    "#run regressions\n",
    "import statsmodels.api as sm\n",
    "\n",
    "#data manipulation\n",
    "import pandas as pd\n",
    "import numpy as np\n",
    "\n",
    "#plotting tools \n",
    "import matplotlib.pyplot as plt\n",
    "\n",
    "#data to be mentioned\n",
    "import datetime\n",
    "\n",
    "#as creates a shorthand for mentioning it"
   ]
  },
  {
   "cell_type": "code",
   "execution_count": 3,
   "id": "2cee66dd-ef1f-44f9-a648-84557d03535f",
   "metadata": {},
   "outputs": [
    {
     "name": "stdout",
     "output_type": "stream",
     "text": [
      "   color  x   y\n",
      "0    red  0   0\n",
      "1    red  1   1\n",
      "2    red  2   2\n",
      "3    red  3   3\n",
      "4    red  4   4\n",
      "5    red  5   5\n",
      "6    red  6   6\n",
      "7    red  7   7\n",
      "8    red  8   8\n",
      "9    red  9   9\n",
      "10  blue  0   0\n",
      "11  blue  1   1\n",
      "12  blue  2   4\n",
      "13  blue  3   9\n",
      "14  blue  4  16\n",
      "15  blue  5  25\n",
      "16  blue  6  36\n",
      "17  blue  7  49\n",
      "18  blue  8  64\n",
      "19  blue  9  81\n"
     ]
    }
   ],
   "source": [
    "df = pd.DataFrame([['red', 0, 0], ['red', 1, 1], ['red', 2, 2], ['red', 3, 3], ['red', 4, 4], ['red', 5, 5], ['red', 6, 6], ['red', 7, 7], ['red', 8, 8], ['red', 9, 9], ['blue', 0, 0], ['blue', 1, 1], ['blue', 2, 4], ['blue', 3, 9], ['blue', 4, 16], ['blue', 5, 25], ['blue', 6, 36], ['blue', 7, 49], ['blue', 8, 64], ['blue', 9, 81]],\n",
    "                  columns=['color', 'x', 'y'])\n",
    "\n",
    "print(df)"
   ]
  },
  {
   "cell_type": "code",
   "execution_count": 4,
   "id": "f0aad6c3-8df9-4362-87c4-dd07902bf1ac",
   "metadata": {},
   "outputs": [
    {
     "name": "stdout",
     "output_type": "stream",
     "text": [
      "color  blue  red\n",
      "x               \n",
      "0         0    0\n",
      "1         1    1\n",
      "2         4    2\n",
      "3         9    3\n",
      "4        16    4\n",
      "5        25    5\n",
      "6        36    6\n",
      "7        49    7\n",
      "8        64    8\n",
      "9        81    9\n"
     ]
    }
   ],
   "source": [
    "# pivot the data into the correct shape\n",
    "df = df.pivot(index='x', columns='color', values='y')\n",
    "\n",
    "print(df)\n"
   ]
  },
  {
   "cell_type": "code",
   "execution_count": 5,
   "id": "89808f41-5fbf-4e86-8582-5ccd25f3dee0",
   "metadata": {},
   "outputs": [
    {
     "data": {
      "text/plain": [
       "<Axes: xlabel='x'>"
      ]
     },
     "execution_count": 5,
     "metadata": {},
     "output_type": "execute_result"
    },
    {
     "data": {
      "image/png": "[encoded data removed]",
      "text/plain": [
       "<Figure size 500x300 with 1 Axes>"
      ]
     },
     "metadata": {},
     "output_type": "display_data"
    }
   ],
   "source": [
    "\n",
    "# plot the pivoted dataframe; if the column names aren't colors, remove color=df.columns\n",
    "df.plot(color=df.columns, figsize=(5, 3))"
   ]
  }
 ],
 "metadata": {
  "kernelspec": {
   "display_name": "Python 3 (ipykernel)",
   "language": "python",
   "name": "python3"
  },
  "language_info": {
   "codemirror_mode": {
    "name": "ipython",
    "version": 3
   },
   "file_extension": ".py",
   "mimetype": "text/x-python",
   "name": "python",
   "nbconvert_exporter": "python",
   "pygments_lexer": "ipython3",
   "version": "3.10.10"
  }
 },
 "nbformat": 4,
 "nbformat_minor": 5
}
