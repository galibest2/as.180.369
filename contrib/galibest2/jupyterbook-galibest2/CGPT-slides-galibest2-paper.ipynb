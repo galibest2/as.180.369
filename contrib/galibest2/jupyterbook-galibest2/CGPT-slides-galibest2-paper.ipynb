{
 "cells": [
  {
   "cell_type": "markdown",
   "id": "d599578e-1cad-40f3-906c-e8e898d7e5be",
   "metadata": {
    "editable": true,
    "slideshow": {
     "slide_type": "slide"
    },
    "tags": []
   },
   "source": [
    "# Perception and Participation"
   ]
  },
  {
   "cell_type": "markdown",
   "id": "5ffe942a-9b44-4b43-9fc7-6908a97836df",
   "metadata": {
    "editable": true,
    "slideshow": {
     "slide_type": "fragment"
    },
    "tags": []
   },
   "source": [
    "*An analysis of immigration media coverage's impact on labor force participation*"
   ]
  },
  {
   "cell_type": "markdown",
   "id": "d8aada38-702c-4969-a1d3-f50321491c7f",
   "metadata": {
    "editable": true,
    "slideshow": {
     "slide_type": "slide"
    },
    "tags": []
   },
   "source": [
    "## Focus: Reality vs. Economic Theory in Immigration Impact on Labor Force Participation"
   ]
  },
  {
   "cell_type": "markdown",
   "id": "6ab20798-0a7b-43a4-a428-d7a9f68ff32f",
   "metadata": {
    "editable": true,
    "slideshow": {
     "slide_type": "fragment"
    },
    "tags": []
   },
   "source": [
    "\n",
    "## Key Question\n",
    "\n",
    "Does media coverage drive deviations from economic theory?"
   ]
  },
  {
   "cell_type": "markdown",
   "id": "41dac786-0e66-440d-b471-068f57abfca8",
   "metadata": {
    "editable": true,
    "slideshow": {
     "slide_type": "slide"
    },
    "tags": []
   },
   "source": [
    "## Importance of Study"
   ]
  },
  {
   "cell_type": "markdown",
   "id": "0ddfe786-508a-4b5b-9ac2-340372c358fd",
   "metadata": {
    "editable": true,
    "slideshow": {
     "slide_type": "fragment"
    },
    "tags": []
   },
   "source": [
    "\n",
    "**Significance:** Understanding the link between immigration, media, and native-born labor force participation"
   ]
  },
  {
   "cell_type": "markdown",
   "id": "4b577183-c0a9-4b99-afd3-dcb4707c35ed",
   "metadata": {
    "editable": true,
    "slideshow": {
     "slide_type": "fragment"
    },
    "tags": []
   },
   "source": [
    "\n",
    "**Rationale:** Crucial amidst polarized rhetoric and alarming changes in labor force participation"
   ]
  },
  {
   "cell_type": "markdown",
   "id": "66b1e2a9-8f07-41a1-9893-ee67bb631bd2",
   "metadata": {
    "editable": true,
    "slideshow": {
     "slide_type": "slide"
    },
    "tags": []
   },
   "source": [
    "## Paper's Objective"
   ]
  },
  {
   "cell_type": "markdown",
   "id": "04a7be0a-de65-4123-8977-76e752e20f84",
   "metadata": {
    "editable": true,
    "slideshow": {
     "slide_type": "fragment"
    },
    "tags": []
   },
   "source": [
    "**Analyze Combinations:**\n",
    "- Various immigration types (e.g., high-skill substitutions)\n",
    "- Media publications during the same period"
   ]
  },
  {
   "cell_type": "markdown",
   "id": "1c5d06cd-591c-4a7f-a091-f5d2e4f5d837",
   "metadata": {
    "editable": true,
    "slideshow": {
     "slide_type": "fragment"
    },
    "tags": []
   },
   "source": [
    "\n",
    "**Understand the correlations between the two variables**"
   ]
  },
  {
   "cell_type": "markdown",
   "id": "19f5a4a8-8230-43a0-a019-c88db58b3d58",
   "metadata": {
    "editable": true,
    "slideshow": {
     "slide_type": "slide"
    },
    "tags": []
   },
   "source": [
    "## Methodolgy"
   ]
  },
  {
   "cell_type": "markdown",
   "id": "2878c5a5-67ad-4cb3-b775-2998b2cec409",
   "metadata": {
    "editable": true,
    "slideshow": {
     "slide_type": "fragment"
    },
    "tags": []
   },
   "source": [
    "**Combination Analysis:**\n",
    "- Immigration types\n",
    "- Media publications"
   ]
  },
  {
   "cell_type": "markdown",
   "id": "2b69c4c0-c37a-428c-a2da-7c912e0bb4cd",
   "metadata": {
    "editable": true,
    "slideshow": {
     "slide_type": "slide"
    },
    "tags": []
   },
   "source": [
    "## Key Findings"
   ]
  },
  {
   "cell_type": "markdown",
   "id": "bb6b8882-53c2-4184-b95c-3835473ab48e",
   "metadata": {
    "editable": true,
    "slideshow": {
     "slide_type": "fragment"
    },
    "tags": []
   },
   "source": [
    "\n",
    "We fail to find statistical significance between the relationship of the variables.\n",
    "\n",
    "While there is potential for this relationship to exist based on the present literature, these results are not statistically significant when scaled to a larger population."
   ]
  },
  {
   "cell_type": "markdown",
   "id": "182d5c62-ed03-4922-96bc-c8a7fa86f222",
   "metadata": {
    "editable": true,
    "slideshow": {
     "slide_type": ""
    },
    "tags": []
   },
   "source": [
    "## Contributions to Discussions"
   ]
  },
  {
   "cell_type": "markdown",
   "id": "18cfb19e-ceb9-4a3b-a562-f9ddd3e0e877",
   "metadata": {
    "editable": true,
    "slideshow": {
     "slide_type": "fragment"
    },
    "tags": []
   },
   "source": [
    "**Purpose:**\n",
    "Facilitate more nuanced discussions on immigration"
   ]
  },
  {
   "cell_type": "markdown",
   "id": "2e383a69-6b9a-4864-92b1-989f81b9fb74",
   "metadata": {
    "editable": true,
    "slideshow": {
     "slide_type": "fragment"
    },
    "tags": []
   },
   "source": [
    "\n",
    "**Goal:**\n",
    "Inform public discourse with evidence-based insights"
   ]
  },
  {
   "cell_type": "markdown",
   "id": "003df860-8ff5-4999-9eb7-3beb882f369d",
   "metadata": {
    "editable": true,
    "slideshow": {
     "slide_type": ""
    },
    "tags": []
   },
   "source": [
    "# Q&A"
   ]
  }
 ],
 "metadata": {
  "kernelspec": {
   "display_name": "Python 3 (ipykernel)",
   "language": "python",
   "name": "python3"
  },
  "language_info": {
   "codemirror_mode": {
    "name": "ipython",
    "version": 3
   },
   "file_extension": ".py",
   "mimetype": "text/x-python",
   "name": "python",
   "nbconvert_exporter": "python",
   "pygments_lexer": "ipython3",
   "version": "3.10.10"
  }
 },
 "nbformat": 4,
 "nbformat_minor": 5
}
