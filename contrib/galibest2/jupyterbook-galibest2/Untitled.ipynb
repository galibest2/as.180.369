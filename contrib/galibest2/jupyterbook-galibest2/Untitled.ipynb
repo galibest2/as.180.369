{
 "cells": [
  {
   "cell_type": "markdown",
   "id": "7eeaf368-5700-4761-aa19-adb28ade091d",
   "metadata": {
    "editable": true,
    "slideshow": {
     "slide_type": "slide"
    },
    "tags": []
   },
   "source": [
    "# Perception and Participation"
   ]
  },
  {
   "cell_type": "markdown",
   "id": "d3d664ac-9c34-40d9-9ef6-50f02f9c82be",
   "metadata": {
    "editable": true,
    "slideshow": {
     "slide_type": "fragment"
    },
    "tags": []
   },
   "source": [
    "*An analysis of immigration media coverage's impact on labor force participation*"
   ]
  },
  {
   "cell_type": "markdown",
   "id": "57b91ecd-7bdd-40bf-8b2f-ba92e4e9be07",
   "metadata": {
    "editable": true,
    "slideshow": {
     "slide_type": "slide"
    },
    "tags": []
   },
   "source": [
    "## Focus: Reality vs. Economic Theory in Immigration Impact on Labor Force Participation"
   ]
  },
  {
   "cell_type": "markdown",
   "id": "c27f8b61-a036-41d5-b140-2d3fccb7204f",
   "metadata": {
    "editable": true,
    "slideshow": {
     "slide_type": "fragment"
    },
    "tags": []
   },
   "source": [
    "\n",
    "## Key Question\n",
    "\n",
    "Does media coverage drive deviations from economic theory?"
   ]
  },
  {
   "cell_type": "markdown",
   "id": "f078319e-60dc-4264-a4d5-c8e342fb879d",
   "metadata": {
    "editable": true,
    "slideshow": {
     "slide_type": "slide"
    },
    "tags": []
   },
   "source": [
    "## Importance of Study"
   ]
  },
  {
   "cell_type": "markdown",
   "id": "97334f86-eab6-4c36-ad95-67b8152cd51e",
   "metadata": {
    "editable": true,
    "slideshow": {
     "slide_type": "fragment"
    },
    "tags": []
   },
   "source": [
    "\n",
    "**Significance:** Understanding the link between immigration, media, and native-born labor force participation"
   ]
  }
 ],
 "metadata": {
  "kernelspec": {
   "display_name": "Python 3 (ipykernel)",
   "language": "python",
   "name": "python3"
  },
  "language_info": {
   "codemirror_mode": {
    "name": "ipython",
    "version": 3
   },
   "file_extension": ".py",
   "mimetype": "text/x-python",
   "name": "python",
   "nbconvert_exporter": "python",
   "pygments_lexer": "ipython3",
   "version": "3.10.10"
  }
 },
 "nbformat": 4,
 "nbformat_minor": 5
}
