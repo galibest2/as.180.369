{
 "cells": [
  {
   "cell_type": "markdown",
   "id": "d599578e-1cad-40f3-906c-e8e898d7e5be",
   "metadata": {
    "editable": true,
    "slideshow": {
     "slide_type": "slide"
    },
    "tags": []
   },
   "source": [
    "# \"Perception and Participation: An analysis of immigration media coverage's impact on labor force participation\""
   ]
  },
  {
   "cell_type": "markdown",
   "id": "d8aada38-702c-4969-a1d3-f50321491c7f",
   "metadata": {
    "editable": true,
    "slideshow": {
     "slide_type": "slide"
    },
    "tags": []
   },
   "source": [
    "## Abstract"
   ]
  },
  {
   "cell_type": "markdown",
   "id": "6d3e9e28-c3f7-4f9a-868c-4486d6c41688",
   "metadata": {
    "editable": true,
    "slideshow": {
     "slide_type": "fragment"
    },
    "tags": []
   },
   "source": [
    "This paper showcases how reality deviates from economic theory and whether media coverage drives these deviations when analyzing immigration's impact on labor force participation. Understanding the relationship between immigration, media coverage, and fluctuations in native-born labor force participation is key to decreasing negative implications. These findings grow more important as rhetoric becomes more polarized and changes in labor force participation grow more alarming."
   ]
  },
  {
   "cell_type": "markdown",
   "id": "6ab20798-0a7b-43a4-a428-d7a9f68ff32f",
   "metadata": {
    "editable": true,
    "slideshow": {
     "slide_type": "subslide"
    },
    "tags": []
   },
   "source": [
    "The paper's objective is to analyze combinations of various immigration types (ex. high-skill substitutions) and media publications during the same period. An index is created from the results to better understand how the variables are correlated.\n",
    "\n",
    "The findings of the paper support the hypothesis that deviations from economic theory will align with moments where related media coverage was predominantly negative. This paper was produced to contribute to more nuanced discussions regarding immigration."
   ]
  },
  {
   "cell_type": "markdown",
   "id": "d662ce64-ee5b-4c24-a703-c94cc698c416",
   "metadata": {
    "editable": true,
    "slideshow": {
     "slide_type": "slide"
    },
    "tags": []
   },
   "source": [
    "## Introduction"
   ]
  },
  {
   "cell_type": "markdown",
   "id": "2278570b-7801-494a-94c8-c73619adac86",
   "metadata": {
    "editable": true,
    "slideshow": {
     "slide_type": "subslide"
    },
    "tags": []
   },
   "source": [
    "Recently, immigration policy has fueled contentious debates, particularly concerning its impact on native-born individuals. Amidst extensive media coverage, many narratives have emerged.\n",
    "\n",
    "This paper focuses on media coverage surrounding immigration policy to note if any changes in labor participation, or deviation from economic theory, can be directly correlated to media coverage. Leveraging AI-powered systems, narratives surrounding immigration will be analyzed. Instead of researching individual news sources, Google Trends will be used for data collection to help track crowd interest and sentiment. With this data collection strategy, misinformation and core publications will be represented but through an additional variable, core publications will have a heavier weight. This weighting is necessary for core publications tend to have more public trust and a higher likelihood of programs and policies being influenced by these reports."
   ]
  },
  {
   "cell_type": "markdown",
   "id": "7ea49cd3-7300-4ea2-9994-de93cafdcd21",
   "metadata": {
    "editable": true,
    "slideshow": {
     "slide_type": "subslide"
    },
    "tags": []
   },
   "source": [
    "The methodology to track the economic impacts media has on labor force participation is to establish predictions based on economic theory as a baseline. From this baseline, real-world findings will be mapped on the same axes to show the magnitude of deviation. Periods with deviation will be noted and the media coverage during the same period will analyzed to note its potential influence. By recognizing the correlation between these two variables, a conclusion can be made regarding the potential relationship between media and labor force participation. \n",
    "\n",
    "Current literature will be referenced to offer context and a backdrop for the paper's findings within the academic world. The core difference between the predicted findings of this paper and the current literature is that this paper aims to understand the potential drivers of change in labor force participation when immigration takes place."
   ]
  },
  {
   "cell_type": "markdown",
   "id": "90022e56-4331-4f63-a263-15db74706cce",
   "metadata": {
    "editable": true,
    "slideshow": {
     "slide_type": "subslide"
    },
    "tags": []
   },
   "source": [
    "To ensure nuances of immigration policy are represented, the four immigration types will be analyzed: immigrants are high-skilled complements, immigrants are low-skilled complements, immigrants are high-skilled substitutes, and immigrants are low-skilled substitutes. An example of a high-skill substitute may be immigrants who are brought to work within innovative sectors like the technology sector. In direct contrast, an example of a low-skilled substitute may be someone working a job in construction.\n"
   ]
  },
  {
   "cell_type": "markdown",
   "id": "29981f55-4242-40ca-b4fc-1324ac532c95",
   "metadata": {
    "editable": true,
    "slideshow": {
     "slide_type": "subslide"
    },
    "tags": []
   },
   "source": [
    "The findings support the hypothesis that deviations from economic theory will align with moments where media coverage surrounding immigration was predominantly negative. These deviations will also be reflected in labor force participation in a similar fashion. This prediction was made under the current notion that media can heavily influence public sentiment. This hypothesis extends this notion to highlight that media can transitively also influence labor market dynamics. "
   ]
  },
  {
   "cell_type": "markdown",
   "id": "8a6c3208-b9b3-4627-9935-b9fa12681cda",
   "metadata": {
    "editable": true,
    "slideshow": {
     "slide_type": "subslide"
    },
    "tags": []
   },
   "source": [
    "These findings will contribute to more nuanced discussions on immigration by highlighting the diversity among immigrant types, their economic impacts, and the impact of media coverage. In summary, by highlighting the diversity among immigrant types, their economic impacts, and the influence of media coverage this paper aims to understand the drivers behind deviations from labor economic models regarding immigration."
   ]
  },
  {
   "cell_type": "markdown",
   "id": "b0f1142b-a25d-4973-b8be-6cfa35e5b96a",
   "metadata": {
    "editable": true,
    "slideshow": {
     "slide_type": "slide"
    },
    "tags": []
   },
   "source": [
    "## Literature Review"
   ]
  },
  {
   "cell_type": "markdown",
   "id": "b9cc0e6f-c9f1-4623-a5d0-ee982822ae7e",
   "metadata": {
    "editable": true,
    "slideshow": {
     "slide_type": "fragment"
    },
    "tags": []
   },
   "source": [
    "By understanding the literary world that surrounds this paper, this study's objectives and hypotheses will be proven as causality and correlation are established. Two main themes present in current topical literature are immigration's impact on the labor force and the media's role in the perception of immigrants. This paper acts as a bridge between these two themes and its findings relay how media has a direct effect on labor force participation through its narratives surrounding immigration.\n"
   ]
  },
  {
   "cell_type": "markdown",
   "id": "5e37d9fb-0888-47ea-8637-6cd33f4b2757",
   "metadata": {
    "editable": true,
    "slideshow": {
     "slide_type": "subslide"
    },
    "tags": []
   },
   "source": [
    "### Immigration's Economic Impacts"
   ]
  },
  {
   "cell_type": "markdown",
   "id": "ac5f9ee8-885d-4794-864d-734bca289137",
   "metadata": {
    "editable": true,
    "slideshow": {
     "slide_type": "fragment"
    },
    "tags": []
   },
   "source": [
    "#### 1. Altering of Wages in the Short Run"
   ]
  },
  {
   "cell_type": "markdown",
   "id": "2b378b1b-b3bc-4864-8c5d-1c7ae10e4cfa",
   "metadata": {
    "editable": true,
    "slideshow": {
     "slide_type": "subslide"
    },
    "tags": []
   },
   "source": [
    "#### 1. Altering of Wages in the Short Run\n",
    "\n",
    "Based on economic theory, an influx of immigrants should result in an increase in labor supply and as a consequence a decrease in wages in the short run.\n",
    "\n",
    "Within literature it is recognized that immigration does not affect attrition, nor the probabilities of native-born workers finding a job, but it is associated with smaller probabilities of remaining unemployed{cite:p}`Rios-Avila2020-ga`. It is also noted that there is a small risk of unemployed native-born citizens leaving the labor force if they live in a state with a significantly positive net flow of immigrants{cite:p}`Rios-Avila2020-ga`. This risk is mainly due to the employment and wage pressure that may come from supplementary immigration. "
   ]
  },
  {
   "cell_type": "markdown",
   "id": "49930250-2621-4991-acbb-35fa5c1033c3",
   "metadata": {
    "editable": true,
    "slideshow": {
     "slide_type": "subslide"
    },
    "tags": []
   },
   "source": [
    "If an immigrant is supplementary, or can easily replace a native-born worker in that field, individuals will witness a decrease in pay due to an increase in labor supplied. Conversely, if an immigrant is complementary, or works alongside a native-born worker in a different field, there will still be an increase in labor supplied and the expected wage decrease for the immigrants, but a wage increase for workers in the complementary industry. This wage increase is due to changes in a company's wage and capital allocation which will spur an increase in labor demanded for complementary work thus increasing the wages of these workers.\n",
    "\n",
    "Based on the narrative spread by the media, this paper asserts that individuals may be more or less inclined to leave the labor force based on their wage and employment prospects. "
   ]
  },
  {
   "cell_type": "markdown",
   "id": "59c29ad9-dbbe-4283-95f1-5d5626eb6323",
   "metadata": {
    "editable": true,
    "slideshow": {
     "slide_type": "subslide"
    },
    "tags": []
   },
   "source": [
    "While current literature does not take the media into effect, there exists a case study to highlight how an influx of immigration may alter labor supply and demand: the case study of the Mariel Boatlift. "
   ]
  },
  {
   "cell_type": "markdown",
   "id": "3ff5dba6-6aa0-4124-ac12-61117a74d3de",
   "metadata": {
    "editable": true,
    "slideshow": {
     "slide_type": "fragment"
    },
    "tags": []
   },
   "source": [
    "##### Mariel Boatlift"
   ]
  },
  {
   "cell_type": "markdown",
   "id": "60d9be5a-ac41-4b33-bf02-26bd6eef3978",
   "metadata": {
    "editable": true,
    "slideshow": {
     "slide_type": "fragment"
    },
    "tags": []
   },
   "source": [
    "Despite the large influx of immigrants, there was no indication that the Boatlift led to an increase in the unemployment rates of less-skilled blacks or other non-Cuban workers{cite:p}`Card1990-au`. This paper also highlighted that Miami was better acclimated to support an influx of immigrants ––especially Hispanic immigrants{cite:p}`Card1990-au`. This is due to their economy having a large number of complementary jobs to low-skill labor which aided in job mobility of native-born workers instead of unemployment. Furthermore due to core factors, like a lower language barrier, the assimilation of immigrants was high which led to a more productive market that increased the labor demand potentially offsetting any wage decreases in many jobs. "
   ]
  },
  {
   "cell_type": "markdown",
   "id": "602c7f29-628a-43aa-8c55-3b76141a9acd",
   "metadata": {
    "editable": true,
    "slideshow": {
     "slide_type": "subslide"
    },
    "tags": []
   },
   "source": [
    "It should be noted that while virtually no effect on the wages of non-Cuban workers, it is believed that a part of the impact was mitigated by the second economic impact of immigration: internal migration {cite:p}`Card1990-au`."
   ]
  },
  {
   "cell_type": "markdown",
   "id": "42f5ac07-dc73-4b7a-aadb-bc6a6832fc99",
   "metadata": {
    "editable": true,
    "slideshow": {
     "slide_type": "subslide"
    },
    "tags": []
   },
   "source": [
    "### Immigration's Economic Impacts"
   ]
  },
  {
   "cell_type": "markdown",
   "id": "b031eb3e-5f2c-4968-a7df-c64639f96da1",
   "metadata": {
    "editable": true,
    "slideshow": {
     "slide_type": "fragment"
    },
    "tags": []
   },
   "source": [
    "#### 2. Internal Migration of Workers"
   ]
  },
  {
   "cell_type": "markdown",
   "id": "6b21276f-82d3-455a-bc07-9246310fc674",
   "metadata": {
    "editable": true,
    "slideshow": {
     "slide_type": "subslide"
    },
    "tags": []
   },
   "source": [
    "#### 2. Internal Migration of Workers\n",
    "\n",
    "As highlighted by {cite:t}`Card1990-au`, the influx of immigrants from the boatlift led to some internal emigration of native-born Americans and potentially discouraged immigration of some other immigrants. This migration aids in explaining why on a national level substantial wage effects are seen yet on a state level there are negligible impacts {cite:p}`Borjas2021-xq`. The logic highlighted in this piece of literature is that the scope of the labor market is a core determinant of the impact. Seeing that the labor market is dynamic and –– when all other variables  are held equal –– individuals can  move between markets, the state-level analysis may see no net effect due to emigration and immigration canceling each other. On a national level, the main effect witnessed is due to immigration since emigration from the nation is usually lower. "
   ]
  },
  {
   "cell_type": "markdown",
   "id": "405a068a-acfb-49f9-b81b-99c78ccc53ad",
   "metadata": {
    "editable": true,
    "slideshow": {
     "slide_type": "subslide"
    },
    "tags": []
   },
   "source": [
    "The findings of this paper assert that media will be a core driver of whether or not internal migration will take place. This is because the narratives promoted in the media will help shape the reasoning for individual reactions{cite:p}`Hainmueller2014-he`."
   ]
  },
  {
   "cell_type": "markdown",
   "id": "c7fc9920-42d9-40ac-bba1-9236b0c92e2d",
   "metadata": {
    "editable": true,
    "slideshow": {
     "slide_type": "subslide"
    },
    "tags": []
   },
   "source": [
    "This internal migration may lead to some states witnessing differing wage and employment pressures thus leading to the final main impact of immigration: altering labor force participation."
   ]
  },
  {
   "cell_type": "markdown",
   "id": "623a1182-3022-4927-b277-7b386c36caa0",
   "metadata": {
    "editable": true,
    "slideshow": {
     "slide_type": "subslide"
    },
    "tags": []
   },
   "source": [
    "### Immigration's Economic Impacts"
   ]
  },
  {
   "cell_type": "markdown",
   "id": "89b762d7-11a6-418f-8c16-3549904b8fcf",
   "metadata": {
    "editable": true,
    "slideshow": {
     "slide_type": "fragment"
    },
    "tags": []
   },
   "source": [
    "#### 3. Altering Labor Force Participation"
   ]
  },
  {
   "attachments": {},
   "cell_type": "markdown",
   "id": "40a6401a-756e-45b5-bfac-b767560e4d5b",
   "metadata": {
    "editable": true,
    "slideshow": {
     "slide_type": "subslide"
    },
    "tags": []
   },
   "source": [
    "#### 3. Altering Labor Force Participation\n",
    "\n",
    "While the current literature already highlighted some ways to mitigate wage changes, another core way that this may happen is that the labor supply decreases as individuals fail to participate in the labor force. This may happen for two main reasons: individuals leave in order to attain higher education and consequently higher pay, or individuals become discouraged."
   ]
  },
  {
   "cell_type": "markdown",
   "id": "a3086bd8-c760-4f44-852c-3dff6188f3f4",
   "metadata": {
    "editable": true,
    "slideshow": {
     "slide_type": "subslide"
    },
    "tags": []
   },
   "source": [
    "##### Exiting Labor Force to Gain Higher Education"
   ]
  },
  {
   "cell_type": "markdown",
   "id": "46bb4fc3-8e7f-41fb-be0f-271ffa37a1cc",
   "metadata": {
    "editable": true,
    "slideshow": {
     "slide_type": "fragment"
    },
    "tags": []
   },
   "source": [
    " This notion was partially highlighted in the analysis of the Mariel Boatlift by {cite:t}`Card1990-au`. As Card notes, some individuals underwent training to attain higher paying jobs or managerial positions which offered positions for immigrants to fill without decreasing the wage{cite:p}`Card1990-au`. While these individuals may not have left the workforce, it is not uncommon for individuals to attain a higher education seeing that there has been a predicted wage decrease or increase in employment pressures."
   ]
  },
  {
   "cell_type": "markdown",
   "id": "fcb8f667-d3b5-478e-bd27-35e46fff4c4d",
   "metadata": {
    "editable": true,
    "slideshow": {
     "slide_type": "subslide"
    },
    "tags": []
   },
   "source": [
    "##### Discouragement of Workers"
   ]
  },
  {
   "cell_type": "markdown",
   "id": "fe144857-3bb5-4959-bd58-e4500a0b7ee0",
   "metadata": {
    "editable": true,
    "slideshow": {
     "slide_type": "fragment"
    },
    "tags": []
   },
   "source": [
    "The discouraged worker effect –– as described by Ríos-Avila –– is caused by the expectation that immigration will lower wages and decrease job availability {cite:p}`RiosAvila2016-ja`. This paper delves deeper into potential catalysts for this effect and champions that the media's influence on public attitudes directly influences the extent of worker discouragement."
   ]
  },
  {
   "cell_type": "markdown",
   "id": "dbb3ed60-4526-46a9-bafc-bea61b1a3bc8",
   "metadata": {
    "editable": true,
    "slideshow": {
     "slide_type": "subslide"
    },
    "tags": []
   },
   "source": [
    "Current literary findings already partially prove this hypothesis for attitudes toward immigration correlate closely with the perception of the economic impacts along with other social factors {cite:p}`Hainmueller2014-he`. Furthermore, current models note that an individual's exposure aids in forming an immigration stance regardless of present economic conditions {cite:p}`Berg2010-on`. Consequently, as this paper's findings highlight the sentiment shared within the media we can prove causation and not just correlation. "
   ]
  },
  {
   "cell_type": "markdown",
   "id": "444f9fba-9744-4640-b1f4-943017b8fbae",
   "metadata": {
    "editable": true,
    "slideshow": {
     "slide_type": "subslide"
    },
    "tags": []
   },
   "source": [
    "Additionally, the findings can be used to decrease the bias that is caused by the population's current media exposure. To understand how this paper can achieve this, the literature surrounding media and perception must be analyzed. "
   ]
  },
  {
   "cell_type": "markdown",
   "id": "5a814843-29dd-4ab2-8400-be4edfbd4c7f",
   "metadata": {
    "editable": true,
    "slideshow": {
     "slide_type": "subslide"
    },
    "tags": []
   },
   "source": [
    "### The Media's Impact on Perception"
   ]
  },
  {
   "cell_type": "markdown",
   "id": "2d9279c1-75bb-4d16-81c1-c51e9b49f8ac",
   "metadata": {
    "editable": true,
    "slideshow": {
     "slide_type": "fragment"
    },
    "tags": []
   },
   "source": [
    "Current literature recognizes the ability of media to influence the views of the public especially when an ethnic threat is created {cite:p}`Mohamed2020-hr`. This paper argues that this threat creation directly translates to negative immigration views which can evolve into potential discouragement within the workforce. "
   ]
  },
  {
   "cell_type": "markdown",
   "id": "a0e96712-2d13-4216-bdc1-4989078c911a",
   "metadata": {
    "editable": true,
    "jp-MarkdownHeadingCollapsed": true,
    "slideshow": {
     "slide_type": "subslide"
    },
    "tags": []
   },
   "source": [
    "A core study to strengthen this link was done of Germany by {cite:t}`Benesch2019-zs` who found that \"the amount of media reports regarding migration issues is positively associated with concerns about immigration among the German population. This association is strongest when immigrants are the protagonists of media reports.\"{cite:p}`Benesch2019-zs`. \n",
    "\n",
    "While an increased interest can lead to an increase in exposure, {cite:t}`Djourelova2023-dx` notes that the language used in media can support the creation of less moderate stances. {cite:t}`Mohamed2020-hr` stresses within their literary findings that tangible impacts can be seen from the media, and {cite:t}`Sadler2021-wh` quantifies this through their analysis of immigration-related reports. "
   ]
  },
  {
   "cell_type": "markdown",
   "id": "1c1c07b5-40b9-4f5b-84d1-a56837a90958",
   "metadata": {
    "editable": true,
    "slideshow": {
     "slide_type": "subslide"
    },
    "tags": []
   },
   "source": [
    "Within Sadler's analysis, participatory agenda-building is highlighted and the social ramifications of an echo chamber become quantifiable {cite:p}`Sadler2021-wh`. As a consequence, this paper is able to quantify the magnitude and the time horizon that the influence of media narratives have on labor force participation \n",
    "\n",
    "This paper will remain rooted in the logic presented by these literary findings in the hopes of painting a combined perspective regarding immigration media coverage and its impact on labor force participation."
   ]
  },
  {
   "cell_type": "markdown",
   "id": "73fe49e2-c5df-4776-b3fb-ee5f06c25008",
   "metadata": {
    "editable": true,
    "slideshow": {
     "slide_type": "slide"
    },
    "tags": []
   },
   "source": [
    "## Methodology"
   ]
  },
  {
   "cell_type": "markdown",
   "id": "052ca085-c590-41ea-9ffd-0b3b17d75e27",
   "metadata": {
    "editable": true,
    "slideshow": {
     "slide_type": "subslide"
    },
    "tags": []
   },
   "source": [
    "The core hypothesis of this paper is that deviations from economic theory will align with moments where media coverage surrounding immigration was predominantly negative. These deviations will nearly equivocally be present within the calculated labor force participation rate due to the discouraged worker effect {cite:p}`RiosAvila2016-ja`. This prediction was made under the current notion that media narratives can heavily influence public sentiment {cite:p}`Djourelova2023-dx`. This hypothesis extends this notion to highlight that media can transitively also influence labor market dynamics."
   ]
  },
  {
   "cell_type": "markdown",
   "id": "c0762051-69d9-44a0-807a-215b26ae8443",
   "metadata": {
    "editable": true,
    "slideshow": {
     "slide_type": "subslide"
    },
    "tags": []
   },
   "source": [
    "The methodology to track the aforementioned correlation is to establish predictions based on economic theory as a baseline. Drawing from immigration data, the number and skill set of immigrants will be logged. Based on this dataset, predictions will be made based on economic theory. For example, if there is a majority of complementary low-skill workers theory predicts more labor participation in high-skill work."
   ]
  },
  {
   "cell_type": "markdown",
   "id": "d50af4ca-cf57-4017-ab88-0a6b084f211b",
   "metadata": {
    "editable": true,
    "slideshow": {
     "slide_type": "subslide"
    },
    "tags": []
   },
   "source": [
    "From these predictions, real-world findings will be mapped on the same axes to show the magnitude of deviation. The National Science Foundation will be utilized to estimate the types of work being done by laborers and the percent change over the years.\n",
    "\n",
    "Periods with deviation will be noted and public sentiment will be gauged based on data gathered by Google Trends. Positive sentiment is based on the number of pro-immigration searches cataloged while the inverse is true for negative sentiment.\n",
    "\n",
    "To minimize bias or error, an average will be taken of multiple variations of positive or negative indicators. For example, if the average of five samples is a negative number, then the public's sentiment was negative during that period."
   ]
  },
  {
   "attachments": {},
   "cell_type": "markdown",
   "id": "4df62206-7b49-4c3a-849f-9b490f9346ff",
   "metadata": {
    "editable": true,
    "slideshow": {
     "slide_type": "subslide"
    },
    "tags": []
   },
   "source": [
    "Control variables may not be directly used due to media and the social impacts existing in some form regardless of media type. To see how much change in labor participation is due to media perception, the paper will look at the historical cases of large influxes of immigration and labor force participation changes. Any increase in magnitude could be attributed to modern media's influences on individual concerns.\n",
    "\n",
    "In order to account for lag, trends regarding individual interest in immigration policy and immigration in general will be used to gauge the interest of the public. To check robustness, sensitivity checks will take place by adjusting the lag variable."
   ]
  },
  {
   "cell_type": "markdown",
   "id": "deeb55b2-0fe6-4e26-8448-f579089b6ade",
   "metadata": {
    "editable": true,
    "slideshow": {
     "slide_type": "subslide"
    },
    "tags": []
   },
   "source": [
    "By recognizing the correlation between these two variables, a conclusion can be made regarding the potential relationship between media and labor force participation. OLS regression analysis will be utilized as the main statistical model.\n",
    "\n",
    "As previously noted, current models highlight that an individual's exposure aids in forming an immigration stance regardless of present economic conditions {cite:p}`Berg2010-on`. Consequently, as this paper's findings highlight the sentiment shared within the media it proves both causation and correlation."
   ]
  },
  {
   "cell_type": "markdown",
   "id": "bcfb37a1-11b7-4c9f-b677-dac478117924",
   "metadata": {
    "editable": true,
    "slideshow": {
     "slide_type": "subslide"
    },
    "tags": []
   },
   "source": [
    "Additionally, current literature regarding media's influence on immigration views is centered around 2009 to 2020 due to stark political views presented by former President Obama and former President Trump{cite:p}`Sadler2021-wh`. The findings of this paper will be visualized to take GOP presidencies into account while also highlighting core immigration policy changes and changes in economic conditions.\n",
    "\n",
    "This methodology highlighted will ensure that a proper relationship can be tracked between the media and changes in labor force participation. With causality proven through previous literature, these findings can be used to avoid the negative implications of immigration on labor force participation."
   ]
  },
  {
   "cell_type": "markdown",
   "id": "3bc078c1-20ac-4ddf-8f87-62cd78e4b391",
   "metadata": {
    "editable": true,
    "slideshow": {
     "slide_type": "slide"
    },
    "tags": []
   },
   "source": [
    "## Findings"
   ]
  },
  {
   "cell_type": "markdown",
   "id": "d1b45041-0933-4e7e-a7e4-f62decb23f8e",
   "metadata": {
    "editable": true,
    "slideshow": {
     "slide_type": "subslide"
    },
    "tags": []
   },
   "source": [
    "### Analyzing the trends presented through Google Trends Data"
   ]
  },
  {
   "cell_type": "markdown",
   "id": "576cd4e2-6beb-4b0f-94e1-b03cd8807a5c",
   "metadata": {
    "editable": true,
    "slideshow": {
     "slide_type": "subslide"
    },
    "tags": []
   },
   "source": [
    "#### Gauging Public Sentiment"
   ]
  },
  {
   "cell_type": "markdown",
   "id": "7a789bd3-a9a6-45d2-9030-978b1ff4b557",
   "metadata": {
    "editable": true,
    "slideshow": {
     "slide_type": "fragment"
    },
    "tags": []
   },
   "source": [
    "By tracking searches of pro-immigration versus anti-immigration on Google Trends the following graph was compiled. On average the variation between pro-immigration and anti-immigration is pretty split but the magnitude varies the most greatly during election years. The core outlier of this is 2018 due to an increased amount of rhetoric in both the political and news landscapes.\n",
    "\n",
    "![](SentMag.png)"
   ]
  },
  {
   "cell_type": "markdown",
   "id": "b9b28d8a-ab11-4420-b4a6-cbd6879fa162",
   "metadata": {
    "editable": true,
    "slideshow": {
     "slide_type": "subslide"
    },
    "tags": []
   },
   "source": [
    "#### Gauging Public Interest in Immigration Policy"
   ]
  },
  {
   "cell_type": "markdown",
   "id": "25a22c7c-d44c-4b02-a197-1f8918b42deb",
   "metadata": {
    "editable": true,
    "slideshow": {
     "slide_type": "fragment"
    },
    "tags": []
   },
   "source": [
    "To further assess this claim, public interest in immigration policy was also tracked, and a similar trend in magnitude was witnessed.\n",
    "\n",
    "![](Interest.png)"
   ]
  },
  {
   "cell_type": "markdown",
   "id": "f0240a84-818e-40f3-a5a7-d2fe4ad5a569",
   "metadata": {
    "editable": true,
    "slideshow": {
     "slide_type": "subslide"
    },
    "tags": []
   },
   "source": [
    "#### Contextualizing Trends in Terms of Potential Political Influence\n",
    "\n",
    "![](GOP.png)"
   ]
  },
  {
   "cell_type": "markdown",
   "id": "7718f4ed-384a-4e0b-a919-7c2344e37b30",
   "metadata": {
    "editable": true,
    "slideshow": {
     "slide_type": "slide"
    },
    "tags": []
   },
   "source": [
    "## Results"
   ]
  },
  {
   "cell_type": "markdown",
   "id": "d9788334-e096-4819-bf0a-867030fef7f4",
   "metadata": {
    "editable": true,
    "slideshow": {
     "slide_type": "fragment"
    },
    "tags": []
   },
   "source": [
    "The econometric model used was an OLS model with change in the labor force participation rate being the dependent variable, and  the overall sentiment surrounding immigration and interest in immigration policy being the independent variables. The form of the model is linear with a log-likelihood of -95.362. The coefficient estimates of the overall sentiment are 0.0016 and -0.0005 for policy interest with a standard error of 0.003 and 0.002 respectively. The model notes that the standard errors are heteroscedasticity robust. The coefficient of the overall sentiment represents the causal effect that overall sentiment has on changing the labor force participation rate. It should be noted that the coefficient of the policy represents a partial effect on the changes in the labor force participation rate.  Based on these coefficients, the overall sentiment that is encouraged by the media has a positive relationship with changes in labor force participation. It is noted also that the partial effect of policy interest is inverse to that of the causal effect but at a smaller magnitude. The t-statistics for overall sentiment and policy interest were 0.555 and -0.253 respectively. Additionally, the p-values for overall sentiment and policy interest were 0.579 and .800 respectively."
   ]
  },
  {
   "cell_type": "markdown",
   "id": "27cf523a-ff59-467c-9c68-4230b83a5df7",
   "metadata": {
    "editable": true,
    "slideshow": {
     "slide_type": "subslide"
    },
    "tags": []
   },
   "source": [
    "The  R-squared and adjusted R-squared values are 0.002 and -0.009 respectively. Recognizing that the fit of the model is not as high does not diminish the correlations highlighted above. With a more dense data set and API access, one could better gauge the impact to see the core influence. Previous highlighted literature showcases that having the ability to see change on a micro level helps amplify the change and it is encouraged for future research to consider this in their efforts. "
   ]
  },
  {
   "cell_type": "markdown",
   "id": "d10588f6-10da-4afb-bdcd-c2e035850333",
   "metadata": {
    "editable": true,
    "slideshow": {
     "slide_type": "subslide"
    },
    "tags": []
   },
   "source": [
    "The F-statistic associated with the aforementioned p-values is 0.1991. This value is underestimated based on our present data set and thus downplays the overall significance of the model. This model should be considered statistically significant for the respective relationships established within the current literature and the opportunity to track the correlation has been outlined by this literature{cite:p}`Djourelova2023-dx`{cite:p}`Mohamed2020-hr`{cite:p}`Sadler2021-wh`. The reason this is not mirrored in the OLS regression can be mainly attributed to the data set. "
   ]
  },
  {
   "cell_type": "markdown",
   "id": "e3d51ecf-0e00-4996-8d81-a6f13f9cf242",
   "metadata": {
    "editable": true,
    "slideshow": {
     "slide_type": "subslide"
    },
    "tags": []
   },
   "source": [
    "It should also be noted that the Durbin-Watson statistic is 2.040 in which autocorrelation findings are inconclusive. This may allude to the notion that lagged versions of our variable values are related to the original version of it in a time series but this cannot be rejected nor failed to reject without a larger data set.\n",
    "\n",
    "Within the presence of multicollinearity, our findings and analysis suggest that imperfect multicollinearity may be present but perfect multicollinearity is not."
   ]
  },
  {
   "cell_type": "markdown",
   "id": "d4d01149-cb57-43f9-aff1-ce55ebfcfcf5",
   "metadata": {
    "editable": true,
    "slideshow": {
     "slide_type": "subslide"
    },
    "tags": []
   },
   "source": [
    "Within the data set, there was one core influential observation witnessed in 2018. Due to an increased amount of rhetoric, coverage, and overall exposure of immigration policy and trends, we see that any effects were magnified. This is especially highlighted in the third graph presented within the findings. With our current data set, we cannot state that the coefficients are statistically significant at a significance level of 5%. The failure to reject the hypothesis that there is no casual effect can mainly be attributed to the data set and not the trend itself."
   ]
  },
  {
   "cell_type": "markdown",
   "id": "ed4bea74-48f4-42cc-883c-fb057d3f92a2",
   "metadata": {
    "editable": true,
    "slideshow": {
     "slide_type": "subslide"
    },
    "tags": []
   },
   "source": [
    "The economic significance of the results is that there is a correlation between media coverage and the labor force participation rate. Even with this poor data set, there is a positive correlation that can be recognized. By acknowledging this, we allow for further research to be encouraged to improve economic outcomes by ensuring a lack of destructive media habits. The magnitudes, while small, can be amplified with larger and more robust data sets. Furthermore, the direction of these effects helps dictate how certain conversations can be constructive or destructive to the efforts of improving labor force participation."
   ]
  },
  {
   "cell_type": "markdown",
   "id": "5335602f-8d61-4b89-bae3-63519fc0ad7a",
   "metadata": {
    "editable": true,
    "slideshow": {
     "slide_type": "subslide"
    },
    "tags": []
   },
   "source": [
    "The model fit being poor explains the lack of variation and hinders the model's ability to provide meaningful insights into the economic relationships being studied. Furthermore, with a more diverse and large dataset, robustness checks alongside sensitivity analyses could be conducted to assess the validity of the results. This paper acknowledges the limitations of resources for API visibility but encourages those with the proper resources to build on these findings."
   ]
  },
  {
   "cell_type": "markdown",
   "id": "2aef4728-b7e1-4b18-bcaa-c190c681fed1",
   "metadata": {
    "editable": true,
    "slideshow": {
     "slide_type": "subslide"
    },
    "tags": []
   },
   "source": [
    "![](OLS.png)"
   ]
  },
  {
   "cell_type": "markdown",
   "id": "f7bd58ca-8356-4c74-8c5c-81c003d28cbb",
   "metadata": {
    "editable": true,
    "slideshow": {
     "slide_type": "slide"
    },
    "tags": []
   },
   "source": [
    "## Conclusion"
   ]
  },
  {
   "cell_type": "markdown",
   "id": "f750dbf0-740c-4bfe-a5d0-7414261853f9",
   "metadata": {
    "editable": true,
    "slideshow": {
     "slide_type": "fragment"
    },
    "tags": []
   },
   "source": [
    "Due to limitations in API access and thus the creation of a robust data set, the OLS regression questions the credibility of the paper's initial hypothesis. Recognizing the magnitude and direction of the coefficients found, the hypothesis still holds and is in line with current literature surrounding the topic.\n",
    "\n",
    "The author of this paper urges future researchers, especially those with access to more dense APIs, to track the impact of media on public perception to then tie it into its connection with changes in labor force participation. In the meantime, the author encourages for the current correlation of influence to be considered when structuring conversations surrounding immigration and its impact on the labor market."
   ]
  }
 ],
 "metadata": {
  "kernelspec": {
   "display_name": "Python 3 (ipykernel)",
   "language": "python",
   "name": "python3"
  },
  "language_info": {
   "codemirror_mode": {
    "name": "ipython",
    "version": 3
   },
   "file_extension": ".py",
   "mimetype": "text/x-python",
   "name": "python",
   "nbconvert_exporter": "python",
   "pygments_lexer": "ipython3",
   "version": "3.10.10"
  }
 },
 "nbformat": 4,
 "nbformat_minor": 5
}
