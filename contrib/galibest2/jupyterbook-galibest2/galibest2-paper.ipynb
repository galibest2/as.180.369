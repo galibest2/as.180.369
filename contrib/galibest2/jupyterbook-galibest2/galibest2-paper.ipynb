{
 "cells": [
  {
   "cell_type": "markdown",
   "id": "d599578e-1cad-40f3-906c-e8e898d7e5be",
   "metadata": {},
   "source": [
    "# Galilee's Paper"
   ]
  },
  {
   "cell_type": "markdown",
   "id": "f6df628d-6c37-42e4-abcd-d810c687ac34",
   "metadata": {},
   "source": [
    "## Abstract \n",
    "\n",
    "This paper showcases how reality deviates from economic theory and whether media coverage drives these deviations when analyzing immigration's impact on labor force participation. Understanding the relationship between immigration, media coverage, and fluctuations in native-born labor force participation is key to decreasing negative implications. These findings grow more important as rhetoric becomes more polarized and changes in labor force participation grow more alarming.\n",
    "\n",
    "The paper's objective is to analyze combinations of various immigration types (ex. high-skill substitutions) and media publications during the same period. An index is created from the results to better understand how the variables are correlated.\n",
    "\n",
    "The findings of the paper support the hypothesis that deviations from economic theory will align with moments where related media coverage was predominantly negative. This paper was produced to contribute to more nuanced discussions regarding immigration.\n",
    "\n",
    "The methodology used is a combination of statistical models and case studies. This paper builds on the insights of {cite:t}`RiosAvila2016-ja`regarding immigration and native-born unemployment and discouragement . Additionally, the paper shall expand on trends surrounding native internal migration {cite:p}`Borjas2021-xq`{cite:p}`Card2001-dx`. Finally, the paper's findings use Scheve's work regarding deviations between real-world results and theory as a foundation {cite:p}`Scheve2001-qv`."
   ]
  },
  {
   "cell_type": "markdown",
   "id": "65b1b003-af43-4254-9c91-9b4c176a0bae",
   "metadata": {},
   "source": [
    "## Introduction \n",
    "\n",
    "**REVISE TO INCLUDE CITATIONS INSTEAD OF HARDCODED ITEMS**\n",
    "\n",
    "Recently, immigration policy has fueled contentious debates, particularly concerning its impact on native-born individuals. Amidst extensive media coverage, many narratives have emerged.\n",
    "\n",
    "This paper focuses on media coverage surrounding immigration policy to note if any changes in labor participation, or deviation from economic theory, can be directly correlated to media coverage. Leveraging AI-powered systems, narratives surrounding immigration will be analyzed. Instead of researching individual news sources, Google Trends will be used for data collection to help track crowd interest and sentiment. With this data collection strategy, misinformation and core publications will be represented but through an additional variable, core publications will have a heavier weight. This weighting is necessary for core publications tend to have more public trust and a higher likelihood of programs and policies being influenced by these reports.\n",
    "\n",
    "The methodology to track the economic impacts media has on labor force participation is to establish predictions based on economic theory as a baseline. From this baseline, real-world findings will be mapped on the same axes to show the magnitude of deviation. Periods with deviation will be noted and the media coverage during the same period will analyzed to note its potential influence. By recognizing the correlation between these two variables, a conclusion can be made regarding the potential relationship between media and labor force participation. \n",
    "\n",
    "Current literature will be referenced to offer context and a backdrop for the paper's findings within the academic world. The core difference between the predicted findings of this paper and the current literature is that this paper aims to understand the potential drivers of change in labor force participation when immigration takes place.\n",
    "\n",
    "To ensure nuances of immigration policy are represented, the four immigration types will be analyzed: immigrants are high-skilled complements, immigrants are low-skilled complements, immigrants are high-skilled substitutes, and immigrants are low-skilled substitutes. An example of a high-skill substitute may be immigrants who are brought to work within innovative sectors like the technology sector. In direct contrast, an example of a low-skilled substitute may be someone working a job in construction.\n",
    "\n",
    "The findings expand the analysis done by Ríos-Avila surrounding immigration’s impact on native-born unemployment and discouragement{cite:p}`RiosAvila2016-ja`. Our paper notes the dominant public perception at the time regarding immigration and how this correlates with the unemployment or discouragement highlighted by Ríos‐Avila.\n",
    "\n",
    "The paper also builds on trends highlighted by Borjas and Card surrounding native internal migration {cite:p}`Borjas2021-xq`{cite:p}`Card2001-dx`. By comparing immigration influxes and media coverage, our findings showcase the correlation between Borjas' and Card's migrations and narratives in the media. Scheve's work acts as a foundational piece for our analysis as it establishes core differences between theory and literature regarding labor-market competition and immigration policy {cite:p}`Scheve2001-qv`. Card's research surrounding the effects of the Mariel Boatlift was also fundamental to our analysis{cite:p}`Card1990-au`. Both pieces help ground the findings of this paper in a medium that allows for further applications outside of the literary realm. \n",
    "\n",
    "The Mariel Boatlift is a core case study for both the direct impacts of immigration on the Miami labor market can be tracked, and the media coverage surrounding this event can be analyzed to gauge its influence on the findings. The paper will take into consideration how the randomness of the sample may impact the scalability of the findings.\n",
    "\n",
    "Inspired by Dustmann, a model will be introduced to highlight how media coverage drove the changes witnessed in labor force participation {cite:p}`Dustmann2008-zi`. **Maybe instead of Dustmann use one of the newer sources and models** \n",
    "\n",
    "The findings support the hypothesis that deviations from economic theory will align with moments where media coverage surrounding immigration was predominantly negative. These deviations will also be reflected in labor force participation in a similar fashion. This prediction was made under the current notion that media can heavily influence public sentiment. This hypothesis extends this notion to highlight that media can transitively also influence labor market dynamics. \n",
    "\n",
    "These findings will contribute to more nuanced discussions on immigration by highlighting the diversity among immigrant types, their economic impacts, and the impact of media coverage. In summary, by highlighting the diversity among immigrant types, their economic impacts, and the influence of media coverage this paper aims to understand the drivers behind deviations from labor economic models regarding immigration."
   ]
  },
  {
   "cell_type": "markdown",
   "id": "7e9a5b1c-2772-4770-a38e-165557ace114",
   "metadata": {},
   "source": [
    "## Literature Review\n",
    "\n",
    "..."
   ]
  },
  {
   "cell_type": "markdown",
   "id": "2f67a584-f13b-42f8-9723-82b206705505",
   "metadata": {},
   "source": [
    "## Methodology\n",
    "\n",
    "*This is the approach I took, as well as its justification*\n",
    "\n",
    "..."
   ]
  },
  {
   "cell_type": "markdown",
   "id": "8d0b03ed-a4bc-4b25-993e-b0ca7c855c72",
   "metadata": {},
   "source": [
    "```{bibliography}\n",
    "```"
   ]
  }
 ],
 "metadata": {
  "kernelspec": {
   "display_name": "Python 3 (ipykernel)",
   "language": "python",
   "name": "python3"
  },
  "language_info": {
   "codemirror_mode": {
    "name": "ipython",
    "version": 3
   },
   "file_extension": ".py",
   "mimetype": "text/x-python",
   "name": "python",
   "nbconvert_exporter": "python",
   "pygments_lexer": "ipython3",
   "version": "3.10.10"
  }
 },
 "nbformat": 4,
 "nbformat_minor": 5
}
