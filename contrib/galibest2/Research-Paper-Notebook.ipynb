{
 "cells": [
  {
   "cell_type": "markdown",
   "id": "7d1cede5-5bcf-4c8e-b87d-bfab0e9bd71c",
   "metadata": {},
   "source": [
    "# Research Paper Notebook"
   ]
  },
  {
   "cell_type": "markdown",
   "id": "ec4c791e-c727-4334-ae0e-8cbc51829203",
   "metadata": {},
   "source": [
    "## Abstract"
   ]
  },
  {
   "cell_type": "markdown",
   "id": "5f5fc959-72f0-4bcc-897a-ac8633e7321d",
   "metadata": {},
   "source": [
    "This paper showcases how reality deviates from economic theory and whether media coverage drives these deviations when analyzing immigration's impact on labor force participation. Understanding the relationship between immigration, media coverage, and fluctuations in native-born labor force participation is key to decreasing negative implications. These findings grow more important as rhetoric becomes more polarized and changes in labor force participation grow more alarming.\n",
    "\n",
    "The paper's objective is to analyze combinations of various immigration types (ex. high-skill substitutions) and media publications during the same period. An index is created from the results to better understand how the variables are correlated.\n",
    "\n",
    "The findings of the paper support the hypothesis that deviations from economic theory will align with moments where related media coverage was predominantly negative. This paper was produced to contribute to more nuanced discussions regarding immigration.\n",
    "\n",
    "The methodology used is a combination of statistical models and case studies. This paper builds on the work of Ríos‐Avila's insights regarding immigration and native-born unemployment and discouragement (Ríos‐Avila, 2016). Additionally, the paper shall expand on trends surrounding native internal migration (Borjas, 2021) (Card, 2001). Finally, the paper's findings use Scheve's work regarding deviations between real-world results and theory as a foundation (Scheve, 2001). "
   ]
  },
  {
   "cell_type": "markdown",
   "id": "3be1c34d-bbb4-4c04-8735-1b3eed9b030a",
   "metadata": {},
   "source": [
    "## Introduction"
   ]
  },
  {
   "cell_type": "markdown",
   "id": "4c048055-383d-4077-8d7c-b450e5e3043f",
   "metadata": {},
   "source": [
    "Recently, immigration policy has fueled contentious debates, particularly concerning its impact on native-born individuals. Amidst extensive media coverage, many narratives have emerged.\n",
    "\n",
    "This paper focuses on media coverage surrounding immigration policy to note if any changes in labor participation, or deviation from economic theory, can be directly correlated to media coverage. Leveraging AI-powered systems, narratives surrounding immigration will be analyzed. Instead of researching reputable news sources, \"X\" will be used for data collection due to it being a core destination where people access the news. With this data collection strategy, misinformation and core publications will be represented but through an additional variable, core publications will have a heavier weight. This weighting is necessary for core publications tend to have more public trust and a higher likelihood of programs and policies being influenced by these reports.\n",
    "\n",
    "The methodology to track the economic impacts media has on labor force participation is to establish predictions based on economic theory as a baseline. From this baseline, real-world findings will be mapped on the same axes to show the magnitude of deviation. Periods with deviation will be noted and the media coverage during the same period will analyzed to note its potential influence. By recognizing the correlation between these two variables, a conclusion can be made regarding the potential relationship between media and labor force participation. \n",
    "\n",
    "Current literature will be referenced to offer context and a backdrop for the paper's findings within the academic world. The core difference between the predicted findings of this paper and the current literature is that this paper aims to understand the potential drivers of change in labor force participation when immigration takes place.\n",
    "\n",
    "To ensure nuances of immigration policy are represented, the four immigration types will be analyzed: immigrants are high-skilled complements, immigrants are low-skilled complements, immigrants are high-skilled substitutes, and immigrants are low-skilled substitutes. An example of a high-skill substitute may be immigrants who are brought to work within innovative sectors like the technology sector. In direct contrast, an example of a low-skilled substitute maybe someone working a job in construction.\n",
    "\n",
    "The findings expand on Ríos‐Avila's analysis surrounding immigration’s impact on native-born unemployment and discouragement(Ríos‐Avila, 2016). Our paper notes the dominant public perception at the time regarding immigration and how this correlates with the unemployment or discouragement highlighted by Ríos‐Avila.\n",
    "\n",
    "The paper also builds on trends highlighted by Borjas and Card surrounding native internal migration (Borjas, 2021) (Card, 2001). By comparing immigration influxes and media coverage, our findings showcase the correlation between Borjas' and Card's migrations and narratives in the media. Scheve's work acts as a foundational piece for our analysis as it establishes core differences between theory and literature regarding labor-market competition and immigration policy (Scheve, 2001). Card's research surrounding the effects of the Mariel Boatlift was also fundamental to our analysis(Card, 1990). Both pieces help ground the findings of this paper in a medium that allows for further applications outside of the literary realm. \n",
    "\n",
    "The Mariel Boatlift is a core case study for both the direct impacts of immigration on the Miami labor market can be tracked, and the media coverage surrounding this event can be analyzed to gauge its influence on the findings. The paper will take into consideration how the randomness of the sample may impact the scalability of the findings.\n",
    "\n",
    "Inspired by Dustmann, a model will be introduced to highlight how media coverage drove the changes witnessed in labor force participation(Dustmann, 2008). \n",
    "\n",
    "The findings support the hypothesis that deviations from economic theory will align with moments where media coverage surrounding immigration was predominantly negative. These deviations will also be reflected in labor force participation in a similar fashion. This prediction was made under the current notion that media can heavily influence public sentiment. This hypothesis extends this notion to highlight that media can transitively also influence labor market dynamics. \n",
    "\n",
    "These findings will contribute to more nuanced discussions on immigration by highlighting the diversity among immigrant types, their economic impacts, and the impact of media coverage. In summary, by highlighting the diversity among immigrant types, their economic impacts, and the influence of media coverage this paper aims to understand the drivers behind deviations from labor economic models regarding immigration."
   ]
  },
  {
   "cell_type": "code",
   "execution_count": null,
   "id": "851127f4-2ffe-4405-b83d-bdf670a714b8",
   "metadata": {},
   "outputs": [],
   "source": []
  },
  {
   "cell_type": "markdown",
   "id": "c7678901-2516-459b-b78d-fcf2a7c88d43",
   "metadata": {},
   "source": [
    "## Data"
   ]
  },
  {
   "cell_type": "code",
   "execution_count": 3,
   "id": "25cdc049-604f-49c2-b4aa-63f330ace7f1",
   "metadata": {},
   "outputs": [],
   "source": [
    "# Load necessary libraries\n",
    "\n",
    "#run regressions\n",
    "import statsmodels.api as sm\n",
    "\n",
    "#data manipulation\n",
    "import pandas as pd\n",
    "import numpy as np\n",
    "\n",
    "#plotting tools \n",
    "import matplotlib.pyplot as plt\n",
    "\n",
    "#data to be mentioned\n",
    "import datetime\n",
    "\n",
    "#as creates a shorthand for mentioning it"
   ]
  },
  {
   "cell_type": "code",
   "execution_count": 4,
   "id": "fd45b4c1-92f6-4acb-9cdb-8a4684d5babd",
   "metadata": {},
   "outputs": [
    {
     "ename": "ParserError",
     "evalue": "Error tokenizing data. C error: Expected 1 fields in line 12, saw 2\n",
     "output_type": "error",
     "traceback": [
      "\u001b[0;31m---------------------------------------------------------------------------\u001b[0m",
      "\u001b[0;31mParserError\u001b[0m                               Traceback (most recent call last)",
      "Cell \u001b[0;32mIn[4], line 4\u001b[0m\n\u001b[1;32m      1\u001b[0m \u001b[38;5;66;03m# Import CSV file and read data\u001b[39;00m\n\u001b[1;32m      3\u001b[0m url \u001b[38;5;241m=\u001b[39m \u001b[38;5;124m\"\u001b[39m\u001b[38;5;124mhttps://jhu.econ-ark.org/hub/user-redirect/lab/tree/as.180.369/contrib/galibest2/immigration_gtrend.csv\u001b[39m\u001b[38;5;124m\"\u001b[39m\n\u001b[0;32m----> 4\u001b[0m temp \u001b[38;5;241m=\u001b[39m \u001b[43mpd\u001b[49m\u001b[38;5;241;43m.\u001b[39;49m\u001b[43mread_csv\u001b[49m\u001b[43m(\u001b[49m\u001b[43murl\u001b[49m\u001b[43m,\u001b[49m\u001b[43mdtype\u001b[49m\u001b[38;5;241;43m=\u001b[39;49m\u001b[38;5;28;43mstr\u001b[39;49m\u001b[43m)\u001b[49m\n\u001b[1;32m      5\u001b[0m df_trend \u001b[38;5;241m=\u001b[39m pd\u001b[38;5;241m.\u001b[39mDataFrame(temp)\n\u001b[1;32m      7\u001b[0m \u001b[38;5;28mprint\u001b[39m(df_trend)\n",
      "File \u001b[0;32m/opt/tljh/user/lib/python3.10/site-packages/pandas/io/parsers/readers.py:912\u001b[0m, in \u001b[0;36mread_csv\u001b[0;34m(filepath_or_buffer, sep, delimiter, header, names, index_col, usecols, dtype, engine, converters, true_values, false_values, skipinitialspace, skiprows, skipfooter, nrows, na_values, keep_default_na, na_filter, verbose, skip_blank_lines, parse_dates, infer_datetime_format, keep_date_col, date_parser, date_format, dayfirst, cache_dates, iterator, chunksize, compression, thousands, decimal, lineterminator, quotechar, quoting, doublequote, escapechar, comment, encoding, encoding_errors, dialect, on_bad_lines, delim_whitespace, low_memory, memory_map, float_precision, storage_options, dtype_backend)\u001b[0m\n\u001b[1;32m    899\u001b[0m kwds_defaults \u001b[38;5;241m=\u001b[39m _refine_defaults_read(\n\u001b[1;32m    900\u001b[0m     dialect,\n\u001b[1;32m    901\u001b[0m     delimiter,\n\u001b[0;32m   (...)\u001b[0m\n\u001b[1;32m    908\u001b[0m     dtype_backend\u001b[38;5;241m=\u001b[39mdtype_backend,\n\u001b[1;32m    909\u001b[0m )\n\u001b[1;32m    910\u001b[0m kwds\u001b[38;5;241m.\u001b[39mupdate(kwds_defaults)\n\u001b[0;32m--> 912\u001b[0m \u001b[38;5;28;01mreturn\u001b[39;00m \u001b[43m_read\u001b[49m\u001b[43m(\u001b[49m\u001b[43mfilepath_or_buffer\u001b[49m\u001b[43m,\u001b[49m\u001b[43m \u001b[49m\u001b[43mkwds\u001b[49m\u001b[43m)\u001b[49m\n",
      "File \u001b[0;32m/opt/tljh/user/lib/python3.10/site-packages/pandas/io/parsers/readers.py:583\u001b[0m, in \u001b[0;36m_read\u001b[0;34m(filepath_or_buffer, kwds)\u001b[0m\n\u001b[1;32m    580\u001b[0m     \u001b[38;5;28;01mreturn\u001b[39;00m parser\n\u001b[1;32m    582\u001b[0m \u001b[38;5;28;01mwith\u001b[39;00m parser:\n\u001b[0;32m--> 583\u001b[0m     \u001b[38;5;28;01mreturn\u001b[39;00m \u001b[43mparser\u001b[49m\u001b[38;5;241;43m.\u001b[39;49m\u001b[43mread\u001b[49m\u001b[43m(\u001b[49m\u001b[43mnrows\u001b[49m\u001b[43m)\u001b[49m\n",
      "File \u001b[0;32m/opt/tljh/user/lib/python3.10/site-packages/pandas/io/parsers/readers.py:1704\u001b[0m, in \u001b[0;36mTextFileReader.read\u001b[0;34m(self, nrows)\u001b[0m\n\u001b[1;32m   1697\u001b[0m nrows \u001b[38;5;241m=\u001b[39m validate_integer(\u001b[38;5;124m\"\u001b[39m\u001b[38;5;124mnrows\u001b[39m\u001b[38;5;124m\"\u001b[39m, nrows)\n\u001b[1;32m   1698\u001b[0m \u001b[38;5;28;01mtry\u001b[39;00m:\n\u001b[1;32m   1699\u001b[0m     \u001b[38;5;66;03m# error: \"ParserBase\" has no attribute \"read\"\u001b[39;00m\n\u001b[1;32m   1700\u001b[0m     (\n\u001b[1;32m   1701\u001b[0m         index,\n\u001b[1;32m   1702\u001b[0m         columns,\n\u001b[1;32m   1703\u001b[0m         col_dict,\n\u001b[0;32m-> 1704\u001b[0m     ) \u001b[38;5;241m=\u001b[39m \u001b[38;5;28;43mself\u001b[39;49m\u001b[38;5;241;43m.\u001b[39;49m\u001b[43m_engine\u001b[49m\u001b[38;5;241;43m.\u001b[39;49m\u001b[43mread\u001b[49m\u001b[43m(\u001b[49m\u001b[43m  \u001b[49m\u001b[38;5;66;43;03m# type: ignore[attr-defined]\u001b[39;49;00m\n\u001b[1;32m   1705\u001b[0m \u001b[43m        \u001b[49m\u001b[43mnrows\u001b[49m\n\u001b[1;32m   1706\u001b[0m \u001b[43m    \u001b[49m\u001b[43m)\u001b[49m\n\u001b[1;32m   1707\u001b[0m \u001b[38;5;28;01mexcept\u001b[39;00m \u001b[38;5;167;01mException\u001b[39;00m:\n\u001b[1;32m   1708\u001b[0m     \u001b[38;5;28mself\u001b[39m\u001b[38;5;241m.\u001b[39mclose()\n",
      "File \u001b[0;32m/opt/tljh/user/lib/python3.10/site-packages/pandas/io/parsers/c_parser_wrapper.py:234\u001b[0m, in \u001b[0;36mCParserWrapper.read\u001b[0;34m(self, nrows)\u001b[0m\n\u001b[1;32m    232\u001b[0m \u001b[38;5;28;01mtry\u001b[39;00m:\n\u001b[1;32m    233\u001b[0m     \u001b[38;5;28;01mif\u001b[39;00m \u001b[38;5;28mself\u001b[39m\u001b[38;5;241m.\u001b[39mlow_memory:\n\u001b[0;32m--> 234\u001b[0m         chunks \u001b[38;5;241m=\u001b[39m \u001b[38;5;28;43mself\u001b[39;49m\u001b[38;5;241;43m.\u001b[39;49m\u001b[43m_reader\u001b[49m\u001b[38;5;241;43m.\u001b[39;49m\u001b[43mread_low_memory\u001b[49m\u001b[43m(\u001b[49m\u001b[43mnrows\u001b[49m\u001b[43m)\u001b[49m\n\u001b[1;32m    235\u001b[0m         \u001b[38;5;66;03m# destructive to chunks\u001b[39;00m\n\u001b[1;32m    236\u001b[0m         data \u001b[38;5;241m=\u001b[39m _concatenate_chunks(chunks)\n",
      "File \u001b[0;32m/opt/tljh/user/lib/python3.10/site-packages/pandas/_libs/parsers.pyx:814\u001b[0m, in \u001b[0;36mpandas._libs.parsers.TextReader.read_low_memory\u001b[0;34m()\u001b[0m\n",
      "File \u001b[0;32m/opt/tljh/user/lib/python3.10/site-packages/pandas/_libs/parsers.pyx:875\u001b[0m, in \u001b[0;36mpandas._libs.parsers.TextReader._read_rows\u001b[0;34m()\u001b[0m\n",
      "File \u001b[0;32m/opt/tljh/user/lib/python3.10/site-packages/pandas/_libs/parsers.pyx:850\u001b[0m, in \u001b[0;36mpandas._libs.parsers.TextReader._tokenize_rows\u001b[0;34m()\u001b[0m\n",
      "File \u001b[0;32m/opt/tljh/user/lib/python3.10/site-packages/pandas/_libs/parsers.pyx:861\u001b[0m, in \u001b[0;36mpandas._libs.parsers.TextReader._check_tokenize_status\u001b[0;34m()\u001b[0m\n",
      "File \u001b[0;32m/opt/tljh/user/lib/python3.10/site-packages/pandas/_libs/parsers.pyx:2029\u001b[0m, in \u001b[0;36mpandas._libs.parsers.raise_parser_error\u001b[0;34m()\u001b[0m\n",
      "\u001b[0;31mParserError\u001b[0m: Error tokenizing data. C error: Expected 1 fields in line 12, saw 2\n"
     ]
    }
   ],
   "source": [
    "# Import CSV file and read data\n",
    "\n",
    "url = \"https://jhu.econ-ark.org/hub/user-redirect/lab/tree/as.180.369/contrib/galibest2/immigration_gtrend.csv\"\n",
    "temp = pd.read_csv(url,dtype=str)\n",
    "df_trend = pd.DataFrame(temp)\n",
    "\n",
    "print(df_trend)"
   ]
  },
  {
   "cell_type": "code",
   "execution_count": null,
   "id": "6c1e64ea-0cfb-425e-83ac-f186ad7898f9",
   "metadata": {},
   "outputs": [],
   "source": []
  }
 ],
 "metadata": {
  "kernelspec": {
   "display_name": "Python 3 (ipykernel)",
   "language": "python",
   "name": "python3"
  },
  "language_info": {
   "codemirror_mode": {
    "name": "ipython",
    "version": 3
   },
   "file_extension": ".py",
   "mimetype": "text/x-python",
   "name": "python",
   "nbconvert_exporter": "python",
   "pygments_lexer": "ipython3",
   "version": "3.10.10"
  }
 },
 "nbformat": 4,
 "nbformat_minor": 5
}
