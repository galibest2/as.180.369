{
 "cells": [
  {
   "cell_type": "markdown",
   "id": "7d1cede5-5bcf-4c8e-b87d-bfab0e9bd71c",
   "metadata": {},
   "source": [
    "# Research Paper Notebook"
   ]
  },
  {
   "cell_type": "markdown",
   "id": "ec4c791e-c727-4334-ae0e-8cbc51829203",
   "metadata": {},
   "source": [
    "## Abstract"
   ]
  },
  {
   "cell_type": "markdown",
   "id": "5f5fc959-72f0-4bcc-897a-ac8633e7321d",
   "metadata": {},
   "source": [
    "This paper showcases how reality deviates from economic theory and whether media coverage drives these deviations when analyzing immigration's impact on labor force participation. Understanding the relationship between immigration, media coverage, and fluctuations in native-born labor force participation is key to decreasing negative implications. These findings grow more important as rhetoric becomes more polarized and changes in labor force participation grow more alarming.\n",
    "\n",
    "The paper's objective is to analyze combinations of various immigration types (ex. high-skill substitutions) and media publications during the same period. An index is created from the results to better understand how the variables are correlated.\n",
    "\n",
    "The findings of the paper support the hypothesis that deviations from economic theory will align with moments where related media coverage was predominantly negative. This paper was produced to contribute to more nuanced discussions regarding immigration.\n",
    "\n",
    "The methodology used is a combination of statistical models and case studies. This paper builds on the work of Ríos‐Avila's insights regarding immigration and native-born unemployment and discouragement (Ríos‐Avila, 2016). Additionally, the paper shall expand on trends surrounding native internal migration (Borjas, 2021) (Card, 2001). Finally, the paper's findings use Scheve's work regarding deviations between real-world results and theory as a foundation (Scheve, 2001). "
   ]
  },
  {
   "cell_type": "markdown",
   "id": "3be1c34d-bbb4-4c04-8735-1b3eed9b030a",
   "metadata": {},
   "source": [
    "## Introduction"
   ]
  },
  {
   "cell_type": "markdown",
   "id": "4c048055-383d-4077-8d7c-b450e5e3043f",
   "metadata": {},
   "source": [
    "Recently, immigration policy has fueled contentious debates, particularly concerning its impact on native-born individuals. Amidst extensive media coverage, many narratives have emerged.\n",
    "\n",
    "This paper focuses on media coverage surrounding immigration policy to note if any changes in labor participation, or deviation from economic theory, can be directly correlated to media coverage. Leveraging AI-powered systems, narratives surrounding immigration will be analyzed. Instead of researching reputable news sources, \"X\" will be used for data collection due to it being a core destination where people access the news. With this data collection strategy, misinformation and core publications will be represented but through an additional variable, core publications will have a heavier weight. This weighting is necessary for core publications tend to have more public trust and a higher likelihood of programs and policies being influenced by these reports.\n",
    "\n",
    "The methodology to track the economic impacts media has on labor force participation is to establish predictions based on economic theory as a baseline. From this baseline, real-world findings will be mapped on the same axes to show the magnitude of deviation. Periods with deviation will be noted and the media coverage during the same period will analyzed to note its potential influence. By recognizing the correlation between these two variables, a conclusion can be made regarding the potential relationship between media and labor force participation. \n",
    "\n",
    "Current literature will be referenced to offer context and a backdrop for the paper's findings within the academic world. The core difference between the predicted findings of this paper and the current literature is that this paper aims to understand the potential drivers of change in labor force participation when immigration takes place.\n",
    "\n",
    "To ensure nuances of immigration policy are represented, the four immigration types will be analyzed: immigrants are high-skilled complements, immigrants are low-skilled complements, immigrants are high-skilled substitutes, and immigrants are low-skilled substitutes. An example of a high-skill substitute may be immigrants who are brought to work within innovative sectors like the technology sector. In direct contrast, an example of a low-skilled substitute maybe someone working a job in construction.\n",
    "\n",
    "The findings expand on Ríos‐Avila's analysis surrounding immigration’s impact on native-born unemployment and discouragement(Ríos‐Avila, 2016). Our paper notes the dominant public perception at the time regarding immigration and how this correlates with the unemployment or discouragement highlighted by Ríos‐Avila.\n",
    "\n",
    "The paper also builds on trends highlighted by Borjas and Card surrounding native internal migration (Borjas, 2021) (Card, 2001). By comparing immigration influxes and media coverage, our findings showcase the correlation between Borjas' and Card's migrations and narratives in the media. Scheve's work acts as a foundational piece for our analysis as it establishes core differences between theory and literature regarding labor-market competition and immigration policy (Scheve, 2001). Card's research surrounding the effects of the Mariel Boatlift was also fundamental to our analysis(Card, 1990). Both pieces help ground the findings of this paper in a medium that allows for further applications outside of the literary realm. \n",
    "\n",
    "The Mariel Boatlift is a core case study for both the direct impacts of immigration on the Miami labor market can be tracked, and the media coverage surrounding this event can be analyzed to gauge its influence on the findings. The paper will take into consideration how the randomness of the sample may impact the scalability of the findings.\n",
    "\n",
    "Inspired by Dustmann, a model will be introduced to highlight how media coverage drove the changes witnessed in labor force participation(Dustmann, 2008). \n",
    "\n",
    "The findings support the hypothesis that deviations from economic theory will align with moments where media coverage surrounding immigration was predominantly negative. These deviations will also be reflected in labor force participation in a similar fashion. This prediction was made under the current notion that media can heavily influence public sentiment. This hypothesis extends this notion to highlight that media can transitively also influence labor market dynamics. \n",
    "\n",
    "These findings will contribute to more nuanced discussions on immigration by highlighting the diversity among immigrant types, their economic impacts, and the impact of media coverage. In summary, by highlighting the diversity among immigrant types, their economic impacts, and the influence of media coverage this paper aims to understand the drivers behind deviations from labor economic models regarding immigration."
   ]
  },
  {
   "cell_type": "code",
   "execution_count": null,
   "id": "851127f4-2ffe-4405-b83d-bdf670a714b8",
   "metadata": {},
   "outputs": [],
   "source": []
  },
  {
   "cell_type": "markdown",
   "id": "c7678901-2516-459b-b78d-fcf2a7c88d43",
   "metadata": {},
   "source": [
    "## Data"
   ]
  },
  {
   "cell_type": "code",
   "execution_count": 4,
   "id": "25cdc049-604f-49c2-b4aa-63f330ace7f1",
   "metadata": {},
   "outputs": [],
   "source": [
    "# Load necessary libraries\n",
    "\n",
    "#run regressions\n",
    "import statsmodels.api as sm\n",
    "\n",
    "#data manipulation\n",
    "import pandas as pd\n",
    "import numpy as np\n",
    "\n",
    "#plotting tools \n",
    "import matplotlib.pyplot as plt\n",
    "\n",
    "#data to be mentioned\n",
    "import datetime\n",
    "\n",
    "#as creates a shorthand for mentioning it"
   ]
  },
  {
   "cell_type": "code",
   "execution_count": 5,
   "id": "fd45b4c1-92f6-4acb-9cdb-8a4684d5babd",
   "metadata": {},
   "outputs": [
    {
     "name": "stdout",
     "output_type": "stream",
     "text": [
      "        Date pro narrative neg narrative policy\n",
      "0    2008-01             0             0     53\n",
      "1    2008-02             0             0     18\n",
      "2    2008-03             0             0      0\n",
      "3    2008-04             0             0     20\n",
      "4    2008-05             0             0     34\n",
      "..       ...           ...           ...    ...\n",
      "185  2023-06             0             9     23\n",
      "186  2023-07             0             0      0\n",
      "187  2023-08             0             0     35\n",
      "188  2023-09             0             0     29\n",
      "189  2023-10             0             0      0\n",
      "\n",
      "[190 rows x 4 columns]\n"
     ]
    }
   ],
   "source": [
    "# Import CSV file and read data\n",
    "\n",
    "url = \"https://github.com/galibest2/as.180.369/blob/main/contrib/galibest2/immigration_gtrend.csv?raw=true\"\n",
    "temp = pd.read_csv(url,dtype=str)\n",
    "df_trend = pd.DataFrame(temp)\n",
    "\n",
    "df_trend.rename(columns = {'Month':'Date', 'pro immigration: (United States)':'pro narrative',\n",
    "                              'anti immigration: (United States)':'neg narrative', \n",
    "                              'immigration policy: (United States)':'policy'}, inplace = True)\n",
    "\n",
    "print(df_trend)"
   ]
  },
  {
   "cell_type": "code",
   "execution_count": 6,
   "id": "6c1e64ea-0cfb-425e-83ac-f186ad7898f9",
   "metadata": {},
   "outputs": [
    {
     "name": "stdout",
     "output_type": "stream",
     "text": [
      "<bound method NDFrame.head of           Date pro narrative neg narrative policy\n",
      "0   2008-01-01             0             0     53\n",
      "1   2008-02-01             0             0     18\n",
      "2   2008-03-01             0             0      0\n",
      "3   2008-04-01             0             0     20\n",
      "4   2008-05-01             0             0     34\n",
      "..         ...           ...           ...    ...\n",
      "185 2023-06-01             0             9     23\n",
      "186 2023-07-01             0             0      0\n",
      "187 2023-08-01             0             0     35\n",
      "188 2023-09-01             0             0     29\n",
      "189 2023-10-01             0             0      0\n",
      "\n",
      "[190 rows x 4 columns]>\n"
     ]
    }
   ],
   "source": [
    "# Add a specific day (e.g., the first day of the month)\n",
    "df_trend['Date'] = df_trend['Date'] + '-01'\n",
    "\n",
    "# Convert the complete date string to a datetime object\n",
    "df_trend['Date'] = pd.to_datetime(df_trend['Date'])\n",
    "df_trend['Date'] = df_trend['Date'].dt.normalize()\n",
    "df_trend['Date'] = df_trend['Date'].dt.floor('D')\n",
    "print(df_trend.head)"
   ]
  },
  {
   "cell_type": "code",
   "execution_count": 7,
   "id": "034410e3-36a3-4b2d-acd1-fbe9a1c376ec",
   "metadata": {},
   "outputs": [
    {
     "ename": "TypeError",
     "evalue": "no numeric data to plot",
     "output_type": "error",
     "traceback": [
      "\u001b[0;31m---------------------------------------------------------------------------\u001b[0m",
      "\u001b[0;31mTypeError\u001b[0m                                 Traceback (most recent call last)",
      "Cell \u001b[0;32mIn[7], line 3\u001b[0m\n\u001b[1;32m      1\u001b[0m \u001b[38;5;66;03m# Graphing the Data Frame\u001b[39;00m\n\u001b[0;32m----> 3\u001b[0m \u001b[43mdf_trend\u001b[49m\u001b[38;5;241;43m.\u001b[39;49m\u001b[43mplot\u001b[49m\u001b[43m(\u001b[49m\u001b[43mx\u001b[49m\u001b[38;5;241;43m=\u001b[39;49m\u001b[38;5;124;43m\"\u001b[39;49m\u001b[38;5;124;43mDate\u001b[39;49m\u001b[38;5;124;43m\"\u001b[39;49m\u001b[43m,\u001b[49m\u001b[43m \u001b[49m\u001b[43my\u001b[49m\u001b[38;5;241;43m=\u001b[39;49m\u001b[43m[\u001b[49m\u001b[38;5;124;43m\"\u001b[39;49m\u001b[38;5;124;43mpro narrative\u001b[39;49m\u001b[38;5;124;43m\"\u001b[39;49m\u001b[43m]\u001b[49m\u001b[43m,\u001b[49m\u001b[43mfigsize\u001b[49m\u001b[38;5;241;43m=\u001b[39;49m\u001b[43m(\u001b[49m\u001b[38;5;241;43m9\u001b[39;49m\u001b[43m,\u001b[49m\u001b[43m \u001b[49m\u001b[38;5;241;43m8\u001b[39;49m\u001b[43m)\u001b[49m\u001b[43m)\u001b[49m\n",
      "File \u001b[0;32m/opt/tljh/user/lib/python3.10/site-packages/pandas/plotting/_core.py:975\u001b[0m, in \u001b[0;36mPlotAccessor.__call__\u001b[0;34m(self, *args, **kwargs)\u001b[0m\n\u001b[1;32m    972\u001b[0m             label_name \u001b[38;5;241m=\u001b[39m label_kw \u001b[38;5;129;01mor\u001b[39;00m data\u001b[38;5;241m.\u001b[39mcolumns\n\u001b[1;32m    973\u001b[0m             data\u001b[38;5;241m.\u001b[39mcolumns \u001b[38;5;241m=\u001b[39m label_name\n\u001b[0;32m--> 975\u001b[0m \u001b[38;5;28;01mreturn\u001b[39;00m \u001b[43mplot_backend\u001b[49m\u001b[38;5;241;43m.\u001b[39;49m\u001b[43mplot\u001b[49m\u001b[43m(\u001b[49m\u001b[43mdata\u001b[49m\u001b[43m,\u001b[49m\u001b[43m \u001b[49m\u001b[43mkind\u001b[49m\u001b[38;5;241;43m=\u001b[39;49m\u001b[43mkind\u001b[49m\u001b[43m,\u001b[49m\u001b[43m \u001b[49m\u001b[38;5;241;43m*\u001b[39;49m\u001b[38;5;241;43m*\u001b[39;49m\u001b[43mkwargs\u001b[49m\u001b[43m)\u001b[49m\n",
      "File \u001b[0;32m/opt/tljh/user/lib/python3.10/site-packages/pandas/plotting/_matplotlib/__init__.py:71\u001b[0m, in \u001b[0;36mplot\u001b[0;34m(data, kind, **kwargs)\u001b[0m\n\u001b[1;32m     69\u001b[0m         kwargs[\u001b[38;5;124m\"\u001b[39m\u001b[38;5;124max\u001b[39m\u001b[38;5;124m\"\u001b[39m] \u001b[38;5;241m=\u001b[39m \u001b[38;5;28mgetattr\u001b[39m(ax, \u001b[38;5;124m\"\u001b[39m\u001b[38;5;124mleft_ax\u001b[39m\u001b[38;5;124m\"\u001b[39m, ax)\n\u001b[1;32m     70\u001b[0m plot_obj \u001b[38;5;241m=\u001b[39m PLOT_CLASSES[kind](data, \u001b[38;5;241m*\u001b[39m\u001b[38;5;241m*\u001b[39mkwargs)\n\u001b[0;32m---> 71\u001b[0m \u001b[43mplot_obj\u001b[49m\u001b[38;5;241;43m.\u001b[39;49m\u001b[43mgenerate\u001b[49m\u001b[43m(\u001b[49m\u001b[43m)\u001b[49m\n\u001b[1;32m     72\u001b[0m plot_obj\u001b[38;5;241m.\u001b[39mdraw()\n\u001b[1;32m     73\u001b[0m \u001b[38;5;28;01mreturn\u001b[39;00m plot_obj\u001b[38;5;241m.\u001b[39mresult\n",
      "File \u001b[0;32m/opt/tljh/user/lib/python3.10/site-packages/pandas/plotting/_matplotlib/core.py:446\u001b[0m, in \u001b[0;36mMPLPlot.generate\u001b[0;34m(self)\u001b[0m\n\u001b[1;32m    444\u001b[0m \u001b[38;5;28;01mdef\u001b[39;00m \u001b[38;5;21mgenerate\u001b[39m(\u001b[38;5;28mself\u001b[39m) \u001b[38;5;241m-\u001b[39m\u001b[38;5;241m>\u001b[39m \u001b[38;5;28;01mNone\u001b[39;00m:\n\u001b[1;32m    445\u001b[0m     \u001b[38;5;28mself\u001b[39m\u001b[38;5;241m.\u001b[39m_args_adjust()\n\u001b[0;32m--> 446\u001b[0m     \u001b[38;5;28;43mself\u001b[39;49m\u001b[38;5;241;43m.\u001b[39;49m\u001b[43m_compute_plot_data\u001b[49m\u001b[43m(\u001b[49m\u001b[43m)\u001b[49m\n\u001b[1;32m    447\u001b[0m     \u001b[38;5;28mself\u001b[39m\u001b[38;5;241m.\u001b[39m_setup_subplots()\n\u001b[1;32m    448\u001b[0m     \u001b[38;5;28mself\u001b[39m\u001b[38;5;241m.\u001b[39m_make_plot()\n",
      "File \u001b[0;32m/opt/tljh/user/lib/python3.10/site-packages/pandas/plotting/_matplotlib/core.py:632\u001b[0m, in \u001b[0;36mMPLPlot._compute_plot_data\u001b[0;34m(self)\u001b[0m\n\u001b[1;32m    630\u001b[0m \u001b[38;5;66;03m# no non-numeric frames or series allowed\u001b[39;00m\n\u001b[1;32m    631\u001b[0m \u001b[38;5;28;01mif\u001b[39;00m is_empty:\n\u001b[0;32m--> 632\u001b[0m     \u001b[38;5;28;01mraise\u001b[39;00m \u001b[38;5;167;01mTypeError\u001b[39;00m(\u001b[38;5;124m\"\u001b[39m\u001b[38;5;124mno numeric data to plot\u001b[39m\u001b[38;5;124m\"\u001b[39m)\n\u001b[1;32m    634\u001b[0m \u001b[38;5;28mself\u001b[39m\u001b[38;5;241m.\u001b[39mdata \u001b[38;5;241m=\u001b[39m numeric_data\u001b[38;5;241m.\u001b[39mapply(\u001b[38;5;28mself\u001b[39m\u001b[38;5;241m.\u001b[39m_convert_to_ndarray)\n",
      "\u001b[0;31mTypeError\u001b[0m: no numeric data to plot"
     ]
    }
   ],
   "source": [
    "# Graphing the Data Frame\n",
    "\n",
    "df_trend.plot(x=\"Date\", y=[\"pro narrative\"],figsize=(9, 8))"
   ]
  },
  {
   "cell_type": "code",
   "execution_count": null,
   "id": "87a1eeca-10f4-4433-a4c7-d7d687dae288",
   "metadata": {},
   "outputs": [],
   "source": []
  }
 ],
 "metadata": {
  "kernelspec": {
   "display_name": "Python 3 (ipykernel)",
   "language": "python",
   "name": "python3"
  },
  "language_info": {
   "codemirror_mode": {
    "name": "ipython",
    "version": 3
   },
   "file_extension": ".py",
   "mimetype": "text/x-python",
   "name": "python",
   "nbconvert_exporter": "python",
   "pygments_lexer": "ipython3",
   "version": "3.10.10"
  }
 },
 "nbformat": 4,
 "nbformat_minor": 5
}
