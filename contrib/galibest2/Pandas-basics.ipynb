{
 "cells": [
  {
   "cell_type": "markdown",
   "id": "3e7b73e8-ac8d-4479-819d-8c0bb103bdd8",
   "metadata": {},
   "source": [
    "# Introduction to pandas\n",
    "1. Creating a DataFram\n",
    "2. Selecting columns & rows from a DataFrame\n",
    "3. Calculate aggregations/descriptive statistics\n",
    "4. Grouped calculations"
   ]
  },
  {
   "cell_type": "markdown",
   "id": "cb6050c4-bfa9-48fd-8f21-96afabd54ec1",
   "metadata": {},
   "source": [
    "## The Basics"
   ]
  },
  {
   "cell_type": "code",
   "execution_count": 2,
   "id": "14042edc-98c9-436b-9322-82230a9ad34c",
   "metadata": {},
   "outputs": [],
   "source": [
    "import pandas as pd"
   ]
  },
  {
   "cell_type": "markdown",
   "id": "3fc27835-a0b8-46fa-96cc-a38030678a18",
   "metadata": {},
   "source": [
    "### Create a pandas DataFrame"
   ]
  },
  {
   "cell_type": "code",
   "execution_count": 4,
   "id": "cd61ebab-a1d9-4913-a560-5ca648c36b21",
   "metadata": {},
   "outputs": [
    {
     "data": {
      "text/plain": [
       "2"
      ]
     },
     "execution_count": 4,
     "metadata": {},
     "output_type": "execute_result"
    }
   ],
   "source": [
    "d ={'a':1, 'b':2, 'c':3}\n",
    "d['b']"
   ]
  },
  {
   "cell_type": "code",
   "execution_count": 12,
   "id": "9a0ee6a0-816e-4472-8814-52febfb58ebc",
   "metadata": {},
   "outputs": [
    {
     "data": {
      "text/html": [
       "<div>\n",
       "<style scoped>\n",
       "    .dataframe tbody tr th:only-of-type {\n",
       "        vertical-align: middle;\n",
       "    }\n",
       "\n",
       "    .dataframe tbody tr th {\n",
       "        vertical-align: top;\n",
       "    }\n",
       "\n",
       "    .dataframe thead th {\n",
       "        text-align: right;\n",
       "    }\n",
       "</style>\n",
       "<table border=\"1\" class=\"dataframe\">\n",
       "  <thead>\n",
       "    <tr style=\"text-align: right;\">\n",
       "      <th></th>\n",
       "      <th>eye</th>\n",
       "      <th>hair</th>\n",
       "      <th>height</th>\n",
       "    </tr>\n",
       "  </thead>\n",
       "  <tbody>\n",
       "    <tr>\n",
       "      <th>0</th>\n",
       "      <td>brown</td>\n",
       "      <td>brown</td>\n",
       "      <td>60</td>\n",
       "    </tr>\n",
       "    <tr>\n",
       "      <th>1</th>\n",
       "      <td>green</td>\n",
       "      <td>blonde</td>\n",
       "      <td>72</td>\n",
       "    </tr>\n",
       "    <tr>\n",
       "      <th>2</th>\n",
       "      <td>blue</td>\n",
       "      <td>red</td>\n",
       "      <td>62</td>\n",
       "    </tr>\n",
       "    <tr>\n",
       "      <th>3</th>\n",
       "      <td>blue</td>\n",
       "      <td>blonde</td>\n",
       "      <td>65</td>\n",
       "    </tr>\n",
       "    <tr>\n",
       "      <th>4</th>\n",
       "      <td>brown</td>\n",
       "      <td>brown</td>\n",
       "      <td>80</td>\n",
       "    </tr>\n",
       "    <tr>\n",
       "      <th>5</th>\n",
       "      <td>brown</td>\n",
       "      <td>blue</td>\n",
       "      <td>74</td>\n",
       "    </tr>\n",
       "  </tbody>\n",
       "</table>\n",
       "</div>"
      ],
      "text/plain": [
       "     eye    hair  height\n",
       "0  brown   brown      60\n",
       "1  green  blonde      72\n",
       "2   blue     red      62\n",
       "3   blue  blonde      65\n",
       "4  brown   brown      80\n",
       "5  brown    blue      74"
      ]
     },
     "execution_count": 12,
     "metadata": {},
     "output_type": "execute_result"
    }
   ],
   "source": [
    "df = pd.DataFrame({\n",
    "    'eye': ['brown' , 'green' , 'blue', 'blue'  , 'brown' , 'brown'],\n",
    "    'hair': ['brown', 'blonde', 'red' , 'blonde', 'brown' ,  'blue'],\n",
    "    'height': [60   ,  72     , 62    , 65      ,  80     ,      74],\n",
    "})\n",
    "\n",
    "# print (df) #Jupter will display the last line of your cell!\n",
    "df"
   ]
  },
  {
   "cell_type": "markdown",
   "id": "93b19a59-7760-4506-805a-3b4799f4999a",
   "metadata": {},
   "source": [
    "### Selecting Columns & Rows"
   ]
  },
  {
   "cell_type": "code",
   "execution_count": 15,
   "id": "545d1003-20f4-4cdd-84b9-580fd632fa58",
   "metadata": {},
   "outputs": [
    {
     "data": {
      "text/plain": [
       "eye       object\n",
       "hair      object\n",
       "height     int64\n",
       "dtype: object"
      ]
     },
     "execution_count": 15,
     "metadata": {},
     "output_type": "execute_result"
    }
   ],
   "source": [
    "df.dtypes #returns the col and its data type\n",
    "\n",
    "#dataframe rn just holding the data"
   ]
  },
  {
   "cell_type": "code",
   "execution_count": 16,
   "id": "cc5575b6-8347-4c74-a4cd-e62027489e46",
   "metadata": {},
   "outputs": [
    {
     "data": {
      "text/plain": [
       "0    60\n",
       "1    72\n",
       "2    62\n",
       "3    65\n",
       "4    80\n",
       "5    74\n",
       "Name: height, dtype: int64"
      ]
     },
     "execution_count": 16,
     "metadata": {},
     "output_type": "execute_result"
    }
   ],
   "source": [
    "df['height'] # single col"
   ]
  },
  {
   "cell_type": "code",
   "execution_count": 18,
   "id": "2ebf9e15-40ee-4ed3-9bb4-33c1af61f6ef",
   "metadata": {},
   "outputs": [
    {
     "data": {
      "text/html": [
       "<div>\n",
       "<style scoped>\n",
       "    .dataframe tbody tr th:only-of-type {\n",
       "        vertical-align: middle;\n",
       "    }\n",
       "\n",
       "    .dataframe tbody tr th {\n",
       "        vertical-align: top;\n",
       "    }\n",
       "\n",
       "    .dataframe thead th {\n",
       "        text-align: right;\n",
       "    }\n",
       "</style>\n",
       "<table border=\"1\" class=\"dataframe\">\n",
       "  <thead>\n",
       "    <tr style=\"text-align: right;\">\n",
       "      <th></th>\n",
       "      <th>height</th>\n",
       "      <th>eye</th>\n",
       "    </tr>\n",
       "  </thead>\n",
       "  <tbody>\n",
       "    <tr>\n",
       "      <th>0</th>\n",
       "      <td>60</td>\n",
       "      <td>brown</td>\n",
       "    </tr>\n",
       "    <tr>\n",
       "      <th>1</th>\n",
       "      <td>72</td>\n",
       "      <td>green</td>\n",
       "    </tr>\n",
       "    <tr>\n",
       "      <th>2</th>\n",
       "      <td>62</td>\n",
       "      <td>blue</td>\n",
       "    </tr>\n",
       "    <tr>\n",
       "      <th>3</th>\n",
       "      <td>65</td>\n",
       "      <td>blue</td>\n",
       "    </tr>\n",
       "    <tr>\n",
       "      <th>4</th>\n",
       "      <td>80</td>\n",
       "      <td>brown</td>\n",
       "    </tr>\n",
       "    <tr>\n",
       "      <th>5</th>\n",
       "      <td>74</td>\n",
       "      <td>brown</td>\n",
       "    </tr>\n",
       "  </tbody>\n",
       "</table>\n",
       "</div>"
      ],
      "text/plain": [
       "   height    eye\n",
       "0      60  brown\n",
       "1      72  green\n",
       "2      62   blue\n",
       "3      65   blue\n",
       "4      80  brown\n",
       "5      74  brown"
      ]
     },
     "execution_count": 18,
     "metadata": {},
     "output_type": "execute_result"
    }
   ],
   "source": [
    "df[['height', 'eye']] # select multiple cols"
   ]
  },
  {
   "cell_type": "markdown",
   "id": "70a6f9c3-3ee0-4f16-9666-4a29cdeafd7e",
   "metadata": {},
   "source": [
    "#### Comparators\n",
    "- Less than `<`\n",
    "- Greater than `>`\n",
    "- Less or equal to `<=`\n",
    "- Greater or equal to `>=`\n",
    "- Equal to `==`\n",
    "- Not equal to `!=`"
   ]
  },
  {
   "cell_type": "code",
   "execution_count": 19,
   "id": "e69a19ec-4d30-4a07-b1ed-ca6f29b9fec2",
   "metadata": {},
   "outputs": [
    {
     "data": {
      "text/plain": [
       "0     True\n",
       "1    False\n",
       "2    False\n",
       "3    False\n",
       "4     True\n",
       "5     True\n",
       "Name: eye, dtype: bool"
      ]
     },
     "execution_count": 19,
     "metadata": {},
     "output_type": "execute_result"
    }
   ],
   "source": [
    "df['eye'] #returns the value of eye column\n",
    "df['eye'] == 'brown' #returns a boolean array"
   ]
  },
  {
   "cell_type": "code",
   "execution_count": 20,
   "id": "91ba267c-205b-406d-9999-65a0cb5585ac",
   "metadata": {},
   "outputs": [
    {
     "data": {
      "text/plain": [
       "0     True\n",
       "1    False\n",
       "2    False\n",
       "3    False\n",
       "4    False\n",
       "5    False\n",
       "Name: height, dtype: bool"
      ]
     },
     "execution_count": 20,
     "metadata": {},
     "output_type": "execute_result"
    }
   ],
   "source": [
    "df['height'] == 60"
   ]
  },
  {
   "cell_type": "code",
   "execution_count": 21,
   "id": "a4baed70-682e-4de2-9f2d-2a4a5cf0a02b",
   "metadata": {},
   "outputs": [
    {
     "data": {
      "text/plain": [
       "0     True\n",
       "1    False\n",
       "2     True\n",
       "3     True\n",
       "4    False\n",
       "5    False\n",
       "Name: height, dtype: bool"
      ]
     },
     "execution_count": 21,
     "metadata": {},
     "output_type": "execute_result"
    }
   ],
   "source": [
    "df['height'] < 70"
   ]
  },
  {
   "cell_type": "code",
   "execution_count": 22,
   "id": "3a568180-f9a2-4b6e-8382-f24ad4707559",
   "metadata": {},
   "outputs": [
    {
     "data": {
      "text/html": [
       "<div>\n",
       "<style scoped>\n",
       "    .dataframe tbody tr th:only-of-type {\n",
       "        vertical-align: middle;\n",
       "    }\n",
       "\n",
       "    .dataframe tbody tr th {\n",
       "        vertical-align: top;\n",
       "    }\n",
       "\n",
       "    .dataframe thead th {\n",
       "        text-align: right;\n",
       "    }\n",
       "</style>\n",
       "<table border=\"1\" class=\"dataframe\">\n",
       "  <thead>\n",
       "    <tr style=\"text-align: right;\">\n",
       "      <th></th>\n",
       "      <th>eye</th>\n",
       "      <th>hair</th>\n",
       "      <th>height</th>\n",
       "    </tr>\n",
       "  </thead>\n",
       "  <tbody>\n",
       "    <tr>\n",
       "      <th>0</th>\n",
       "      <td>brown</td>\n",
       "      <td>brown</td>\n",
       "      <td>60</td>\n",
       "    </tr>\n",
       "    <tr>\n",
       "      <th>2</th>\n",
       "      <td>blue</td>\n",
       "      <td>red</td>\n",
       "      <td>62</td>\n",
       "    </tr>\n",
       "    <tr>\n",
       "      <th>3</th>\n",
       "      <td>blue</td>\n",
       "      <td>blonde</td>\n",
       "      <td>65</td>\n",
       "    </tr>\n",
       "  </tbody>\n",
       "</table>\n",
       "</div>"
      ],
      "text/plain": [
       "     eye    hair  height\n",
       "0  brown   brown      60\n",
       "2   blue     red      62\n",
       "3   blue  blonde      65"
      ]
     },
     "execution_count": 22,
     "metadata": {},
     "output_type": "execute_result"
    }
   ],
   "source": [
    " # df.loc[] # selecting rows with specific criteria\n",
    " df.loc[df['height']<=70] # filtering on a boolean criteria"
   ]
  },
  {
   "cell_type": "code",
   "execution_count": 23,
   "id": "71b1035e-11fe-40d5-b73b-7a3a52b92e23",
   "metadata": {},
   "outputs": [
    {
     "data": {
      "text/plain": [
       "RangeIndex(start=0, stop=6, step=1)"
      ]
     },
     "execution_count": 23,
     "metadata": {},
     "output_type": "execute_result"
    }
   ],
   "source": [
    "df.index #shows index"
   ]
  },
  {
   "cell_type": "code",
   "execution_count": 24,
   "id": "514d6b99-c87b-491a-9e8b-754d1aeae18a",
   "metadata": {},
   "outputs": [
    {
     "data": {
      "text/plain": [
       "Index([0, 2, 3], dtype='int64')"
      ]
     },
     "execution_count": 24,
     "metadata": {},
     "output_type": "execute_result"
    }
   ],
   "source": [
    "df.loc[df['height']<=70].index"
   ]
  },
  {
   "cell_type": "markdown",
   "id": "183b41fd-fff9-4533-9ac1-ed632e1f7f05",
   "metadata": {},
   "source": [
    "#### Additional Logical Operators\n",
    "- And `&`\n",
    "- Or `|`"
   ]
  },
  {
   "cell_type": "code",
   "execution_count": 25,
   "id": "b00b5a8a-f0a7-4a9f-bed1-68baadc63435",
   "metadata": {},
   "outputs": [
    {
     "data": {
      "text/plain": [
       "0     True\n",
       "1    False\n",
       "2    False\n",
       "3    False\n",
       "4    False\n",
       "5    False\n",
       "dtype: bool"
      ]
     },
     "execution_count": 25,
     "metadata": {},
     "output_type": "execute_result"
    }
   ],
   "source": [
    "#Multiple criteria example\n",
    "(df['eye'] == 'brown') & (df['height'] <= 70)"
   ]
  },
  {
   "cell_type": "code",
   "execution_count": 27,
   "id": "c3658ffc-934f-4778-9ae0-f065773568d0",
   "metadata": {},
   "outputs": [
    {
     "data": {
      "text/plain": [
       "0     True\n",
       "1    False\n",
       "2     True\n",
       "3     True\n",
       "4     True\n",
       "5     True\n",
       "dtype: bool"
      ]
     },
     "execution_count": 27,
     "metadata": {},
     "output_type": "execute_result"
    }
   ],
   "source": [
    "#Multiple criteria example\n",
    "(df['eye'] == 'brown') | (df['height'] <= 70)"
   ]
  },
  {
   "cell_type": "code",
   "execution_count": 26,
   "id": "8aaf1136-4f1a-47be-bf8c-31629f623f54",
   "metadata": {},
   "outputs": [
    {
     "data": {
      "text/html": [
       "<div>\n",
       "<style scoped>\n",
       "    .dataframe tbody tr th:only-of-type {\n",
       "        vertical-align: middle;\n",
       "    }\n",
       "\n",
       "    .dataframe tbody tr th {\n",
       "        vertical-align: top;\n",
       "    }\n",
       "\n",
       "    .dataframe thead th {\n",
       "        text-align: right;\n",
       "    }\n",
       "</style>\n",
       "<table border=\"1\" class=\"dataframe\">\n",
       "  <thead>\n",
       "    <tr style=\"text-align: right;\">\n",
       "      <th></th>\n",
       "      <th>eye</th>\n",
       "      <th>hair</th>\n",
       "      <th>height</th>\n",
       "    </tr>\n",
       "  </thead>\n",
       "  <tbody>\n",
       "    <tr>\n",
       "      <th>0</th>\n",
       "      <td>brown</td>\n",
       "      <td>brown</td>\n",
       "      <td>60</td>\n",
       "    </tr>\n",
       "  </tbody>\n",
       "</table>\n",
       "</div>"
      ],
      "text/plain": [
       "     eye   hair  height\n",
       "0  brown  brown      60"
      ]
     },
     "execution_count": 26,
     "metadata": {},
     "output_type": "execute_result"
    }
   ],
   "source": [
    "#Multiple criteria example\n",
    "df.loc[(df['eye'] == 'brown') & (df['height'] <= 70)]"
   ]
  },
  {
   "cell_type": "code",
   "execution_count": 28,
   "id": "6b982033-3687-4fbb-9d3a-7c07a9ec2767",
   "metadata": {},
   "outputs": [
    {
     "data": {
      "text/html": [
       "<div>\n",
       "<style scoped>\n",
       "    .dataframe tbody tr th:only-of-type {\n",
       "        vertical-align: middle;\n",
       "    }\n",
       "\n",
       "    .dataframe tbody tr th {\n",
       "        vertical-align: top;\n",
       "    }\n",
       "\n",
       "    .dataframe thead th {\n",
       "        text-align: right;\n",
       "    }\n",
       "</style>\n",
       "<table border=\"1\" class=\"dataframe\">\n",
       "  <thead>\n",
       "    <tr style=\"text-align: right;\">\n",
       "      <th></th>\n",
       "      <th>eye</th>\n",
       "      <th>hair</th>\n",
       "      <th>height</th>\n",
       "    </tr>\n",
       "  </thead>\n",
       "  <tbody>\n",
       "    <tr>\n",
       "      <th>0</th>\n",
       "      <td>brown</td>\n",
       "      <td>brown</td>\n",
       "      <td>60</td>\n",
       "    </tr>\n",
       "    <tr>\n",
       "      <th>2</th>\n",
       "      <td>blue</td>\n",
       "      <td>red</td>\n",
       "      <td>62</td>\n",
       "    </tr>\n",
       "    <tr>\n",
       "      <th>3</th>\n",
       "      <td>blue</td>\n",
       "      <td>blonde</td>\n",
       "      <td>65</td>\n",
       "    </tr>\n",
       "    <tr>\n",
       "      <th>4</th>\n",
       "      <td>brown</td>\n",
       "      <td>brown</td>\n",
       "      <td>80</td>\n",
       "    </tr>\n",
       "    <tr>\n",
       "      <th>5</th>\n",
       "      <td>brown</td>\n",
       "      <td>blue</td>\n",
       "      <td>74</td>\n",
       "    </tr>\n",
       "  </tbody>\n",
       "</table>\n",
       "</div>"
      ],
      "text/plain": [
       "     eye    hair  height\n",
       "0  brown   brown      60\n",
       "2   blue     red      62\n",
       "3   blue  blonde      65\n",
       "4  brown   brown      80\n",
       "5  brown    blue      74"
      ]
     },
     "execution_count": 28,
     "metadata": {},
     "output_type": "execute_result"
    }
   ],
   "source": [
    "#Multiple criteria example\n",
    "df.loc[(df['eye'] == 'brown') | (df['height'] <= 70)]"
   ]
  },
  {
   "cell_type": "markdown",
   "id": "2793141a-09e5-4ab6-a9a4-262462dac3f5",
   "metadata": {},
   "source": [
    "### Calculations\n",
    "\n",
    "#### Numerical\n",
    "\n",
    "- Addition `+`\n",
    "- Subtraction `-`\n",
    "- Division `/`\n",
    "- Multiplication `*`\n",
    "- Raising to a power `**`\n",
    "\n",
    "#### Aggregations\n",
    "\n",
    "- Max value `.max()`\n",
    "- Min value `.min()`\n",
    "- Mean `.mean()`\n",
    "- Median `.median()`\n",
    "- Quantile `.quantile([.25, .5, .75])`\n",
    "    - shows what value falls in the different quartiles\n",
    "- Standard Deviation `.std(ddof=1)`"
   ]
  },
  {
   "cell_type": "code",
   "execution_count": 29,
   "id": "ed9b2731-63a9-4d92-8af1-7f64d9cb5315",
   "metadata": {},
   "outputs": [
    {
     "data": {
      "text/plain": [
       "0     80\n",
       "1     92\n",
       "2     82\n",
       "3     85\n",
       "4    100\n",
       "5     94\n",
       "Name: height, dtype: int64"
      ]
     },
     "execution_count": 29,
     "metadata": {},
     "output_type": "execute_result"
    }
   ],
   "source": [
    "df['height'] + 20\n",
    "\n",
    "#Cannot add values to the whole data frame unless all values are int type"
   ]
  },
  {
   "cell_type": "code",
   "execution_count": 30,
   "id": "ef0af8d8-5e3b-4cc5-a911-92cd5e0f788d",
   "metadata": {},
   "outputs": [
    {
     "data": {
      "text/html": [
       "<div>\n",
       "<style scoped>\n",
       "    .dataframe tbody tr th:only-of-type {\n",
       "        vertical-align: middle;\n",
       "    }\n",
       "\n",
       "    .dataframe tbody tr th {\n",
       "        vertical-align: top;\n",
       "    }\n",
       "\n",
       "    .dataframe thead th {\n",
       "        text-align: right;\n",
       "    }\n",
       "</style>\n",
       "<table border=\"1\" class=\"dataframe\">\n",
       "  <thead>\n",
       "    <tr style=\"text-align: right;\">\n",
       "      <th></th>\n",
       "      <th>height</th>\n",
       "    </tr>\n",
       "  </thead>\n",
       "  <tbody>\n",
       "    <tr>\n",
       "      <th>0</th>\n",
       "      <td>60</td>\n",
       "    </tr>\n",
       "    <tr>\n",
       "      <th>1</th>\n",
       "      <td>72</td>\n",
       "    </tr>\n",
       "    <tr>\n",
       "      <th>2</th>\n",
       "      <td>62</td>\n",
       "    </tr>\n",
       "    <tr>\n",
       "      <th>3</th>\n",
       "      <td>65</td>\n",
       "    </tr>\n",
       "    <tr>\n",
       "      <th>4</th>\n",
       "      <td>80</td>\n",
       "    </tr>\n",
       "    <tr>\n",
       "      <th>5</th>\n",
       "      <td>74</td>\n",
       "    </tr>\n",
       "  </tbody>\n",
       "</table>\n",
       "</div>"
      ],
      "text/plain": [
       "   height\n",
       "0      60\n",
       "1      72\n",
       "2      62\n",
       "3      65\n",
       "4      80\n",
       "5      74"
      ]
     },
     "execution_count": 30,
     "metadata": {},
     "output_type": "execute_result"
    }
   ],
   "source": [
    "df .select_dtypes('number') #will show only colums that are all that data type"
   ]
  },
  {
   "cell_type": "code",
   "execution_count": 33,
   "id": "910e0f15-517c-40d9-99e7-12faff618a1f",
   "metadata": {},
   "outputs": [
    {
     "data": {
      "text/plain": [
       "0    60 inches\n",
       "1    72 inches\n",
       "2    62 inches\n",
       "3    65 inches\n",
       "4    80 inches\n",
       "5    74 inches\n",
       "Name: height, dtype: object"
      ]
     },
     "execution_count": 33,
     "metadata": {},
     "output_type": "execute_result"
    }
   ],
   "source": [
    "#Adding units\n",
    "\n",
    "df['height'].astype(str) + [' inches'] #converts the col into a string or object type"
   ]
  },
  {
   "cell_type": "code",
   "execution_count": 34,
   "id": "5780bb6d-c77d-4052-8d58-ac0ece48544d",
   "metadata": {},
   "outputs": [
    {
     "data": {
      "text/plain": [
       "68.5"
      ]
     },
     "execution_count": 34,
     "metadata": {},
     "output_type": "execute_result"
    }
   ],
   "source": [
    "#Aggregators; Use the call functions above and follwo the example\n",
    "\n",
    "df['height'].median()"
   ]
  },
  {
   "cell_type": "markdown",
   "id": "cdfc919d-0290-4687-9737-7f16f447ba69",
   "metadata": {},
   "source": [
    "### Group Calculations"
   ]
  },
  {
   "cell_type": "code",
   "execution_count": 35,
   "id": "c5f831ec-f234-48e3-b3b8-7d0fd29a9c03",
   "metadata": {},
   "outputs": [
    {
     "data": {
      "text/plain": [
       "eye\n",
       "blue     63.500000\n",
       "brown    71.333333\n",
       "green    72.000000\n",
       "Name: height, dtype: float64"
      ]
     },
     "execution_count": 35,
     "metadata": {},
     "output_type": "execute_result"
    }
   ],
   "source": [
    "df.groupby('eye')['height'].mean()"
   ]
  },
  {
   "cell_type": "markdown",
   "id": "c20ebbfa-d8c4-4c4b-b453-93e21cfb1e43",
   "metadata": {},
   "source": [
    "## Applied to FRED"
   ]
  },
  {
   "cell_type": "markdown",
   "id": "f9f403a3-8120-4c5a-a135-2dc4c5c486fd",
   "metadata": {},
   "source": [
    "### Load Data From FRED"
   ]
  },
  {
   "cell_type": "code",
   "execution_count": 38,
   "id": "5f090f0b-c071-48bc-9eb2-b5efccb96213",
   "metadata": {},
   "outputs": [
    {
     "data": {
      "text/plain": [
       "1960-01-01      3.418156\n",
       "1960-02-01      3.255919\n",
       "1960-03-01      3.205570\n",
       "1960-04-01      3.233542\n",
       "1960-05-01      3.205570\n",
       "                 ...    \n",
       "2023-03-01    141.134556\n",
       "2023-04-01    145.176059\n",
       "2023-05-01    142.583249\n",
       "2023-06-01    145.834377\n",
       "2023-07-01    150.752045\n",
       "Length: 763, dtype: float64"
      ]
     },
     "execution_count": 38,
     "metadata": {},
     "output_type": "execute_result"
    }
   ],
   "source": [
    "from fredapi import Fred\n",
    "fred = Fred(api_key='8f59dec25e3eb3275581b6d50ddbc63b')\n",
    "\n",
    "oecd_series = fred.get_series('SPASTT01USM661N', observation_start='1960-01-01', observation_end='2023-07-01')\n",
    "\n",
    "oecd_series"
   ]
  },
  {
   "cell_type": "code",
   "execution_count": 39,
   "id": "90c722be-a06d-4223-a043-6c0250201902",
   "metadata": {},
   "outputs": [
    {
     "data": {
      "text/plain": [
       "1960-01-01     29.370\n",
       "1960-02-01     29.410\n",
       "1960-03-01     29.410\n",
       "1960-04-01     29.540\n",
       "1960-05-01     29.570\n",
       "               ...   \n",
       "2023-03-01    301.808\n",
       "2023-04-01    302.918\n",
       "2023-05-01    303.294\n",
       "2023-06-01    303.841\n",
       "2023-07-01    304.348\n",
       "Length: 763, dtype: float64"
      ]
     },
     "execution_count": 39,
     "metadata": {},
     "output_type": "execute_result"
    }
   ],
   "source": [
    "cpi_series = fred.get_series('CPIAUCSL', observation_start='1960-01-01', observation_end='2023-07-01')\n",
    "\n",
    "cpi_series"
   ]
  },
  {
   "cell_type": "code",
   "execution_count": 45,
   "id": "0d04c0b7-89fa-4b7c-b90f-18fa6b1e1ea3",
   "metadata": {},
   "outputs": [
    {
     "data": {
      "text/html": [
       "<div>\n",
       "<style scoped>\n",
       "    .dataframe tbody tr th:only-of-type {\n",
       "        vertical-align: middle;\n",
       "    }\n",
       "\n",
       "    .dataframe tbody tr th {\n",
       "        vertical-align: top;\n",
       "    }\n",
       "\n",
       "    .dataframe thead th {\n",
       "        text-align: right;\n",
       "    }\n",
       "</style>\n",
       "<table border=\"1\" class=\"dataframe\">\n",
       "  <thead>\n",
       "    <tr style=\"text-align: right;\">\n",
       "      <th></th>\n",
       "      <th>OECD</th>\n",
       "      <th>CPI</th>\n",
       "    </tr>\n",
       "  </thead>\n",
       "  <tbody>\n",
       "    <tr>\n",
       "      <th>1960-01-01</th>\n",
       "      <td>3.418156</td>\n",
       "      <td>29.370</td>\n",
       "    </tr>\n",
       "    <tr>\n",
       "      <th>1960-02-01</th>\n",
       "      <td>3.255919</td>\n",
       "      <td>29.410</td>\n",
       "    </tr>\n",
       "    <tr>\n",
       "      <th>1960-03-01</th>\n",
       "      <td>3.205570</td>\n",
       "      <td>29.410</td>\n",
       "    </tr>\n",
       "    <tr>\n",
       "      <th>1960-04-01</th>\n",
       "      <td>3.233542</td>\n",
       "      <td>29.540</td>\n",
       "    </tr>\n",
       "    <tr>\n",
       "      <th>1960-05-01</th>\n",
       "      <td>3.205570</td>\n",
       "      <td>29.570</td>\n",
       "    </tr>\n",
       "    <tr>\n",
       "      <th>...</th>\n",
       "      <td>...</td>\n",
       "      <td>...</td>\n",
       "    </tr>\n",
       "    <tr>\n",
       "      <th>2023-03-01</th>\n",
       "      <td>141.134556</td>\n",
       "      <td>301.808</td>\n",
       "    </tr>\n",
       "    <tr>\n",
       "      <th>2023-04-01</th>\n",
       "      <td>145.176059</td>\n",
       "      <td>302.918</td>\n",
       "    </tr>\n",
       "    <tr>\n",
       "      <th>2023-05-01</th>\n",
       "      <td>142.583249</td>\n",
       "      <td>303.294</td>\n",
       "    </tr>\n",
       "    <tr>\n",
       "      <th>2023-06-01</th>\n",
       "      <td>145.834377</td>\n",
       "      <td>303.841</td>\n",
       "    </tr>\n",
       "    <tr>\n",
       "      <th>2023-07-01</th>\n",
       "      <td>150.752045</td>\n",
       "      <td>304.348</td>\n",
       "    </tr>\n",
       "  </tbody>\n",
       "</table>\n",
       "<p>763 rows × 2 columns</p>\n",
       "</div>"
      ],
      "text/plain": [
       "                  OECD      CPI\n",
       "1960-01-01    3.418156   29.370\n",
       "1960-02-01    3.255919   29.410\n",
       "1960-03-01    3.205570   29.410\n",
       "1960-04-01    3.233542   29.540\n",
       "1960-05-01    3.205570   29.570\n",
       "...                ...      ...\n",
       "2023-03-01  141.134556  301.808\n",
       "2023-04-01  145.176059  302.918\n",
       "2023-05-01  142.583249  303.294\n",
       "2023-06-01  145.834377  303.841\n",
       "2023-07-01  150.752045  304.348\n",
       "\n",
       "[763 rows x 2 columns]"
      ]
     },
     "execution_count": 45,
     "metadata": {},
     "output_type": "execute_result"
    }
   ],
   "source": [
    "fred_df = pd.DataFrame({\n",
    "    'OECD': oecd_series,\n",
    "    'CPI' : cpi_series\n",
    "})\n",
    "\n",
    "fred_df"
   ]
  },
  {
   "cell_type": "code",
   "execution_count": 47,
   "id": "c271f82a-7363-45d0-bbf8-003b754b992a",
   "metadata": {},
   "outputs": [
    {
     "data": {
      "text/plain": [
       "OECD     85.537193\n",
       "CPI     203.437000\n",
       "Name: 2007-01-01 00:00:00, dtype: float64"
      ]
     },
     "execution_count": 47,
     "metadata": {},
     "output_type": "execute_result"
    }
   ],
   "source": [
    "fred_df.loc['2007-01-01'] #Year Month Date"
   ]
  },
  {
   "cell_type": "code",
   "execution_count": 49,
   "id": "1f70f172-02df-43a1-9386-a5cd65c42e51",
   "metadata": {},
   "outputs": [
    {
     "data": {
      "text/plain": [
       "203.437"
      ]
     },
     "execution_count": 49,
     "metadata": {},
     "output_type": "execute_result"
    }
   ],
   "source": [
    "fred_df.loc['2007-01-01']['CPI'] #Instead of returning a series it returns only the value paired with CPI"
   ]
  },
  {
   "cell_type": "code",
   "execution_count": 51,
   "id": "5a92af1b-cd65-4ec6-ba09-8c26301aa427",
   "metadata": {},
   "outputs": [
    {
     "data": {
      "text/plain": [
       "1960-01-01    0.144369\n",
       "1960-02-01    0.144566\n",
       "1960-03-01    0.144566\n",
       "1960-04-01    0.145205\n",
       "1960-05-01    0.145352\n",
       "                ...   \n",
       "2023-03-01    1.483545\n",
       "2023-04-01    1.489002\n",
       "2023-05-01    1.490850\n",
       "2023-06-01    1.493539\n",
       "2023-07-01    1.496031\n",
       "Name: CPI, Length: 763, dtype: float64"
      ]
     },
     "execution_count": 51,
     "metadata": {},
     "output_type": "execute_result"
    }
   ],
   "source": [
    "fred_df['CPI'] / fred_df.loc['2007-01-01']['CPI']"
   ]
  },
  {
   "cell_type": "code",
   "execution_count": 55,
   "id": "d965b45c-29c6-40c6-8616-26092833566d",
   "metadata": {},
   "outputs": [
    {
     "data": {
      "text/html": [
       "<div>\n",
       "<style scoped>\n",
       "    .dataframe tbody tr th:only-of-type {\n",
       "        vertical-align: middle;\n",
       "    }\n",
       "\n",
       "    .dataframe tbody tr th {\n",
       "        vertical-align: top;\n",
       "    }\n",
       "\n",
       "    .dataframe thead th {\n",
       "        text-align: right;\n",
       "    }\n",
       "</style>\n",
       "<table border=\"1\" class=\"dataframe\">\n",
       "  <thead>\n",
       "    <tr style=\"text-align: right;\">\n",
       "      <th></th>\n",
       "      <th>OECD</th>\n",
       "      <th>CPI</th>\n",
       "      <th>CPI_adj</th>\n",
       "    </tr>\n",
       "  </thead>\n",
       "  <tbody>\n",
       "    <tr>\n",
       "      <th>1960-01-01</th>\n",
       "      <td>3.418156</td>\n",
       "      <td>29.370</td>\n",
       "      <td>1</td>\n",
       "    </tr>\n",
       "    <tr>\n",
       "      <th>1960-02-01</th>\n",
       "      <td>3.255919</td>\n",
       "      <td>29.410</td>\n",
       "      <td>1</td>\n",
       "    </tr>\n",
       "    <tr>\n",
       "      <th>1960-03-01</th>\n",
       "      <td>3.205570</td>\n",
       "      <td>29.410</td>\n",
       "      <td>1</td>\n",
       "    </tr>\n",
       "    <tr>\n",
       "      <th>1960-04-01</th>\n",
       "      <td>3.233542</td>\n",
       "      <td>29.540</td>\n",
       "      <td>1</td>\n",
       "    </tr>\n",
       "    <tr>\n",
       "      <th>1960-05-01</th>\n",
       "      <td>3.205570</td>\n",
       "      <td>29.570</td>\n",
       "      <td>1</td>\n",
       "    </tr>\n",
       "    <tr>\n",
       "      <th>...</th>\n",
       "      <td>...</td>\n",
       "      <td>...</td>\n",
       "      <td>...</td>\n",
       "    </tr>\n",
       "    <tr>\n",
       "      <th>2023-03-01</th>\n",
       "      <td>141.134556</td>\n",
       "      <td>301.808</td>\n",
       "      <td>1</td>\n",
       "    </tr>\n",
       "    <tr>\n",
       "      <th>2023-04-01</th>\n",
       "      <td>145.176059</td>\n",
       "      <td>302.918</td>\n",
       "      <td>1</td>\n",
       "    </tr>\n",
       "    <tr>\n",
       "      <th>2023-05-01</th>\n",
       "      <td>142.583249</td>\n",
       "      <td>303.294</td>\n",
       "      <td>1</td>\n",
       "    </tr>\n",
       "    <tr>\n",
       "      <th>2023-06-01</th>\n",
       "      <td>145.834377</td>\n",
       "      <td>303.841</td>\n",
       "      <td>1</td>\n",
       "    </tr>\n",
       "    <tr>\n",
       "      <th>2023-07-01</th>\n",
       "      <td>150.752045</td>\n",
       "      <td>304.348</td>\n",
       "      <td>1</td>\n",
       "    </tr>\n",
       "  </tbody>\n",
       "</table>\n",
       "<p>763 rows × 3 columns</p>\n",
       "</div>"
      ],
      "text/plain": [
       "                  OECD      CPI  CPI_adj\n",
       "1960-01-01    3.418156   29.370        1\n",
       "1960-02-01    3.255919   29.410        1\n",
       "1960-03-01    3.205570   29.410        1\n",
       "1960-04-01    3.233542   29.540        1\n",
       "1960-05-01    3.205570   29.570        1\n",
       "...                ...      ...      ...\n",
       "2023-03-01  141.134556  301.808        1\n",
       "2023-04-01  145.176059  302.918        1\n",
       "2023-05-01  142.583249  303.294        1\n",
       "2023-06-01  145.834377  303.841        1\n",
       "2023-07-01  150.752045  304.348        1\n",
       "\n",
       "[763 rows x 3 columns]"
      ]
     },
     "execution_count": 55,
     "metadata": {},
     "output_type": "execute_result"
    }
   ],
   "source": [
    "#Making a new column in pandas\n",
    "\n",
    "fred_df['CPI_adj'] = 1\n",
    "\n",
    "fred_df"
   ]
  },
  {
   "cell_type": "code",
   "execution_count": 56,
   "id": "c399cd49-e3f2-4399-ba53-59e466b863fc",
   "metadata": {},
   "outputs": [
    {
     "data": {
      "text/html": [
       "<div>\n",
       "<style scoped>\n",
       "    .dataframe tbody tr th:only-of-type {\n",
       "        vertical-align: middle;\n",
       "    }\n",
       "\n",
       "    .dataframe tbody tr th {\n",
       "        vertical-align: top;\n",
       "    }\n",
       "\n",
       "    .dataframe thead th {\n",
       "        text-align: right;\n",
       "    }\n",
       "</style>\n",
       "<table border=\"1\" class=\"dataframe\">\n",
       "  <thead>\n",
       "    <tr style=\"text-align: right;\">\n",
       "      <th></th>\n",
       "      <th>OECD</th>\n",
       "      <th>CPI</th>\n",
       "      <th>CPI_adj</th>\n",
       "    </tr>\n",
       "  </thead>\n",
       "  <tbody>\n",
       "    <tr>\n",
       "      <th>1960-01-01</th>\n",
       "      <td>3.418156</td>\n",
       "      <td>29.370</td>\n",
       "      <td>0.144369</td>\n",
       "    </tr>\n",
       "    <tr>\n",
       "      <th>1960-02-01</th>\n",
       "      <td>3.255919</td>\n",
       "      <td>29.410</td>\n",
       "      <td>0.144566</td>\n",
       "    </tr>\n",
       "    <tr>\n",
       "      <th>1960-03-01</th>\n",
       "      <td>3.205570</td>\n",
       "      <td>29.410</td>\n",
       "      <td>0.144566</td>\n",
       "    </tr>\n",
       "    <tr>\n",
       "      <th>1960-04-01</th>\n",
       "      <td>3.233542</td>\n",
       "      <td>29.540</td>\n",
       "      <td>0.145205</td>\n",
       "    </tr>\n",
       "    <tr>\n",
       "      <th>1960-05-01</th>\n",
       "      <td>3.205570</td>\n",
       "      <td>29.570</td>\n",
       "      <td>0.145352</td>\n",
       "    </tr>\n",
       "    <tr>\n",
       "      <th>...</th>\n",
       "      <td>...</td>\n",
       "      <td>...</td>\n",
       "      <td>...</td>\n",
       "    </tr>\n",
       "    <tr>\n",
       "      <th>2023-03-01</th>\n",
       "      <td>141.134556</td>\n",
       "      <td>301.808</td>\n",
       "      <td>1.483545</td>\n",
       "    </tr>\n",
       "    <tr>\n",
       "      <th>2023-04-01</th>\n",
       "      <td>145.176059</td>\n",
       "      <td>302.918</td>\n",
       "      <td>1.489002</td>\n",
       "    </tr>\n",
       "    <tr>\n",
       "      <th>2023-05-01</th>\n",
       "      <td>142.583249</td>\n",
       "      <td>303.294</td>\n",
       "      <td>1.490850</td>\n",
       "    </tr>\n",
       "    <tr>\n",
       "      <th>2023-06-01</th>\n",
       "      <td>145.834377</td>\n",
       "      <td>303.841</td>\n",
       "      <td>1.493539</td>\n",
       "    </tr>\n",
       "    <tr>\n",
       "      <th>2023-07-01</th>\n",
       "      <td>150.752045</td>\n",
       "      <td>304.348</td>\n",
       "      <td>1.496031</td>\n",
       "    </tr>\n",
       "  </tbody>\n",
       "</table>\n",
       "<p>763 rows × 3 columns</p>\n",
       "</div>"
      ],
      "text/plain": [
       "                  OECD      CPI   CPI_adj\n",
       "1960-01-01    3.418156   29.370  0.144369\n",
       "1960-02-01    3.255919   29.410  0.144566\n",
       "1960-03-01    3.205570   29.410  0.144566\n",
       "1960-04-01    3.233542   29.540  0.145205\n",
       "1960-05-01    3.205570   29.570  0.145352\n",
       "...                ...      ...       ...\n",
       "2023-03-01  141.134556  301.808  1.483545\n",
       "2023-04-01  145.176059  302.918  1.489002\n",
       "2023-05-01  142.583249  303.294  1.490850\n",
       "2023-06-01  145.834377  303.841  1.493539\n",
       "2023-07-01  150.752045  304.348  1.496031\n",
       "\n",
       "[763 rows x 3 columns]"
      ]
     },
     "execution_count": 56,
     "metadata": {},
     "output_type": "execute_result"
    }
   ],
   "source": [
    "fred_df['CPI_adj'] = fred_df['CPI'] / fred_df.loc['2007-01-01']['CPI']\n",
    "\n",
    "fred_df"
   ]
  }
 ],
 "metadata": {
  "kernelspec": {
   "display_name": "Python 3 (ipykernel)",
   "language": "python",
   "name": "python3"
  },
  "language_info": {
   "codemirror_mode": {
    "name": "ipython",
    "version": 3
   },
   "file_extension": ".py",
   "mimetype": "text/x-python",
   "name": "python",
   "nbconvert_exporter": "python",
   "pygments_lexer": "ipython3",
   "version": "3.10.10"
  }
 },
 "nbformat": 4,
 "nbformat_minor": 5
}
