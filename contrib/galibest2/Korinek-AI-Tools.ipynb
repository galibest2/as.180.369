{
 "cells": [
  {
   "cell_type": "markdown",
   "id": "6d577fc0-4974-45f2-8ecc-9820f1bcae4f",
   "metadata": {},
   "source": [
    "# Korinek Paper Summary"
   ]
  },
  {
   "cell_type": "markdown",
   "id": "c3fb832d-1146-49ae-a5dd-c253769835b6",
   "metadata": {},
   "source": [
    "Within his paper, Anton Korinek highlights multiple use cases and six main domains in which LLMs are more useful: ideation and feedback, writing, background research, data analysis, coding, and mathematical derivations. Some core instructions and examples are highlighted to showcase how to make the most out of AI. In terms of ideation and feedback, Korinek stresses that it can be used for brainstorming, providing counterarguments, and for feedback regarding the core points of your paper.\n"
   ]
  }
 ],
 "metadata": {
  "kernelspec": {
   "display_name": "Python 3 (ipykernel)",
   "language": "python",
   "name": "python3"
  },
  "language_info": {
   "codemirror_mode": {
    "name": "ipython",
    "version": 3
   },
   "file_extension": ".py",
   "mimetype": "text/x-python",
   "name": "python",
   "nbconvert_exporter": "python",
   "pygments_lexer": "ipython3",
   "version": "3.10.10"
  }
 },
 "nbformat": 4,
 "nbformat_minor": 5
}
