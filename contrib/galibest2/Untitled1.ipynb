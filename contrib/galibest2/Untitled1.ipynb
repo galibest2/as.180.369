{
 "cells": [
  {
   "cell_type": "markdown",
   "id": "82b404e9-f331-43a9-a010-2e3f378c6eb2",
   "metadata": {},
   "source": [
    "# Class Notes for Week 9"
   ]
  },
  {
   "cell_type": "markdown",
   "id": "d9e743b7-186f-43c2-8153-064d7c7dfdba",
   "metadata": {},
   "source": [
    "x = "
   ]
  }
 ],
 "metadata": {
  "kernelspec": {
   "display_name": "Python 3 (ipykernel)",
   "language": "python",
   "name": "python3"
  },
  "language_info": {
   "codemirror_mode": {
    "name": "ipython",
    "version": 3
   },
   "file_extension": ".py",
   "mimetype": "text/x-python",
   "name": "python",
   "nbconvert_exporter": "python",
   "pygments_lexer": "ipython3",
   "version": "3.10.10"
  }
 },
 "nbformat": 4,
 "nbformat_minor": 5
}
