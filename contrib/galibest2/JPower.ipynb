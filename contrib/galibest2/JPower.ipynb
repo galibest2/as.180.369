{
 "cells": [
  {
   "cell_type": "markdown",
   "id": "29194fba-72b4-46e8-ad59-0a1a0975e2f8",
   "metadata": {
    "editable": true,
    "slideshow": {
     "slide_type": "slide"
    },
    "tags": []
   },
   "source": [
    "# Beyond the Streetlight\n",
    "\n",
    "### By Galilee Best"
   ]
  },
  {
   "cell_type": "markdown",
   "id": "1dc0a5af-0d7e-4edc-a329-45c487bef957",
   "metadata": {
    "editable": true,
    "slideshow": {
     "slide_type": "slide"
    },
    "tags": []
   },
   "source": [
    "## Thank you to all Federal Reserve Staff"
   ]
  },
  {
   "cell_type": "markdown",
   "id": "baca0c50-ce0a-449d-a11d-f5fd1684e376",
   "metadata": {
    "editable": true,
    "slideshow": {
     "slide_type": "fragment"
    },
    "tags": []
   },
   "source": [
    "Past, Present, and Future"
   ]
  },
  {
   "cell_type": "markdown",
   "id": "2353e5b7-46e6-4eaf-92be-3fd61ed7a83d",
   "metadata": {
    "editable": true,
    "slideshow": {
     "slide_type": "fragment"
    },
    "tags": []
   },
   "source": [
    "For doing a vitally important job as well as humanly possible"
   ]
  }
 ],
 "metadata": {
  "kernelspec": {
   "display_name": "Python 3 (ipykernel)",
   "language": "python",
   "name": "python3"
  },
  "language_info": {
   "codemirror_mode": {
    "name": "ipython",
    "version": 3
   },
   "file_extension": ".py",
   "mimetype": "text/x-python",
   "name": "python",
   "nbconvert_exporter": "python",
   "pygments_lexer": "ipython3",
   "version": "3.10.10"
  }
 },
 "nbformat": 4,
 "nbformat_minor": 5
}
